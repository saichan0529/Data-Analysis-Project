{
 "cells": [
  {
   "cell_type": "code",
   "execution_count": 7,
   "metadata": {},
   "outputs": [],
   "source": [
    "import pandas as pd\n",
    "import pandas as pd\n",
    "from sklearn.preprocessing import StandardScaler, LabelEncoder\n",
    "from sklearn.feature_selection import SelectKBest, f_regression, RFE\n",
    "from sklearn.tree import DecisionTreeRegressor"
   ]
  },
  {
   "cell_type": "code",
   "execution_count": 6,
   "metadata": {},
   "outputs": [],
   "source": [
    "train = pd.read_csv(\"Train-Set.csv\")\n",
    "train['Weight'].fillna(train['Weight'].mean(), inplace=True)\n",
    "train['OutletSize'].fillna(train['OutletSize'].mode()[0], inplace=True)\n",
    "\n",
    "test = pd.read_csv(\"Test-Set.csv\")\n",
    "test['Weight'].fillna(test['Weight'].mean(), inplace=True)\n",
    "test['OutletSize'].fillna(test['OutletSize'].mode()[0], inplace=True)"
   ]
  },
  {
   "cell_type": "code",
   "execution_count": 10,
   "metadata": {},
   "outputs": [],
   "source": [
    "# Encode categorical variables\n",
    "le = LabelEncoder()\n",
    "train['FatContent'] = le.fit_transform(train['FatContent'])\n",
    "train['ProductType'] = le.fit_transform(train['ProductType'])\n",
    "train['LocationType'] = le.fit_transform(train['LocationType'])\n",
    "train['OutletType'] = le.fit_transform(train['OutletType'])\n",
    "train['OutletSize'] = le.fit_transform(train['OutletSize'])\n",
    "\n",
    "# Standardize numerical features\n",
    "scaler = StandardScaler()\n",
    "train[['Weight', 'ProductVisibility', 'MRP']] = scaler.fit_transform(train[['Weight', 'ProductVisibility', 'MRP']])\n"
   ]
  }
 ],
 "metadata": {
  "kernelspec": {
   "display_name": "base",
   "language": "python",
   "name": "python3"
  },
  "language_info": {
   "codemirror_mode": {
    "name": "ipython",
    "version": 3
   },
   "file_extension": ".py",
   "mimetype": "text/x-python",
   "name": "python",
   "nbconvert_exporter": "python",
   "pygments_lexer": "ipython3",
   "version": "3.9.12"
  },
  "orig_nbformat": 4
 },
 "nbformat": 4,
 "nbformat_minor": 2
}
