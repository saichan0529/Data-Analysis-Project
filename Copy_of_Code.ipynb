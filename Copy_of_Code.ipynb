{
  "cells": [
    {
      "cell_type": "code",
      "execution_count": 1,
      "metadata": {
        "colab": {
          "base_uri": "https://localhost:8080/",
          "height": 1000
        },
        "id": "P86T6KB6tS7G",
        "outputId": "8ef41974-082b-4580-a3a9-f03c58f7a473"
      },
      "outputs": [
        {
          "name": "stdout",
          "output_type": "stream",
          "text": [
            "Requirement already satisfied: ydata-profiling in c:\\users\\yagnashree velanki\\anaconda3\\lib\\site-packages (4.1.2)\n",
            "Requirement already satisfied: jinja2<3.2,>=2.11.1 in c:\\users\\yagnashree velanki\\anaconda3\\lib\\site-packages (from ydata-profiling) (2.11.3)\n",
            "Requirement already satisfied: pandas!=1.4.0,<1.6,>1.1 in c:\\users\\yagnashree velanki\\anaconda3\\lib\\site-packages (from ydata-profiling) (1.4.4)\n",
            "Requirement already satisfied: imagehash==4.3.1 in c:\\users\\yagnashree velanki\\anaconda3\\lib\\site-packages (from ydata-profiling) (4.3.1)\n",
            "Requirement already satisfied: scipy<1.10,>=1.4.1 in c:\\users\\yagnashree velanki\\anaconda3\\lib\\site-packages (from ydata-profiling) (1.9.1)\n",
            "Requirement already satisfied: requests<2.29,>=2.24.0 in c:\\users\\yagnashree velanki\\anaconda3\\lib\\site-packages (from ydata-profiling) (2.28.1)\n",
            "Requirement already satisfied: visions[type_image_path]==0.7.5 in c:\\users\\yagnashree velanki\\anaconda3\\lib\\site-packages (from ydata-profiling) (0.7.5)\n",
            "Requirement already satisfied: tqdm<4.65,>=4.48.2 in c:\\users\\yagnashree velanki\\anaconda3\\lib\\site-packages (from ydata-profiling) (4.64.1)\n",
            "Requirement already satisfied: seaborn<0.13,>=0.10.1 in c:\\users\\yagnashree velanki\\anaconda3\\lib\\site-packages (from ydata-profiling) (0.11.2)\n",
            "Requirement already satisfied: multimethod<1.10,>=1.4 in c:\\users\\yagnashree velanki\\anaconda3\\lib\\site-packages (from ydata-profiling) (1.9.1)\n",
            "Requirement already satisfied: PyYAML<6.1,>=5.0.0 in c:\\users\\yagnashree velanki\\anaconda3\\lib\\site-packages (from ydata-profiling) (6.0)\n",
            "Requirement already satisfied: numpy<1.24,>=1.16.0 in c:\\users\\yagnashree velanki\\anaconda3\\lib\\site-packages (from ydata-profiling) (1.21.5)\n",
            "Requirement already satisfied: matplotlib<3.7,>=3.2 in c:\\users\\yagnashree velanki\\anaconda3\\lib\\site-packages (from ydata-profiling) (3.5.2)\n",
            "Requirement already satisfied: htmlmin==0.1.12 in c:\\users\\yagnashree velanki\\anaconda3\\lib\\site-packages (from ydata-profiling) (0.1.12)\n",
            "Requirement already satisfied: phik<0.13,>=0.11.1 in c:\\users\\yagnashree velanki\\anaconda3\\lib\\site-packages (from ydata-profiling) (0.12.3)\n",
            "Requirement already satisfied: typeguard<2.14,>=2.13.2 in c:\\users\\yagnashree velanki\\anaconda3\\lib\\site-packages (from ydata-profiling) (2.13.3)\n",
            "Requirement already satisfied: pydantic<1.11,>=1.8.1 in c:\\users\\yagnashree velanki\\anaconda3\\lib\\site-packages (from ydata-profiling) (1.10.4)\n",
            "Requirement already satisfied: statsmodels<0.14,>=0.13.2 in c:\\users\\yagnashree velanki\\anaconda3\\lib\\site-packages (from ydata-profiling) (0.13.2)\n",
            "Requirement already satisfied: pillow in c:\\users\\yagnashree velanki\\anaconda3\\lib\\site-packages (from imagehash==4.3.1->ydata-profiling) (9.2.0)\n",
            "Requirement already satisfied: PyWavelets in c:\\users\\yagnashree velanki\\anaconda3\\lib\\site-packages (from imagehash==4.3.1->ydata-profiling) (1.3.0)\n",
            "Requirement already satisfied: networkx>=2.4 in c:\\users\\yagnashree velanki\\anaconda3\\lib\\site-packages (from visions[type_image_path]==0.7.5->ydata-profiling) (2.8.4)\n",
            "Requirement already satisfied: tangled-up-in-unicode>=0.0.4 in c:\\users\\yagnashree velanki\\anaconda3\\lib\\site-packages (from visions[type_image_path]==0.7.5->ydata-profiling) (0.2.0)\n",
            "Requirement already satisfied: attrs>=19.3.0 in c:\\users\\yagnashree velanki\\anaconda3\\lib\\site-packages (from visions[type_image_path]==0.7.5->ydata-profiling) (21.4.0)\n",
            "Requirement already satisfied: MarkupSafe>=0.23 in c:\\users\\yagnashree velanki\\anaconda3\\lib\\site-packages (from jinja2<3.2,>=2.11.1->ydata-profiling) (2.0.1)\n",
            "Requirement already satisfied: packaging>=20.0 in c:\\users\\yagnashree velanki\\anaconda3\\lib\\site-packages (from matplotlib<3.7,>=3.2->ydata-profiling) (21.3)\n",
            "Requirement already satisfied: cycler>=0.10 in c:\\users\\yagnashree velanki\\anaconda3\\lib\\site-packages (from matplotlib<3.7,>=3.2->ydata-profiling) (0.11.0)\n",
            "Requirement already satisfied: fonttools>=4.22.0 in c:\\users\\yagnashree velanki\\anaconda3\\lib\\site-packages (from matplotlib<3.7,>=3.2->ydata-profiling) (4.25.0)\n",
            "Requirement already satisfied: kiwisolver>=1.0.1 in c:\\users\\yagnashree velanki\\anaconda3\\lib\\site-packages (from matplotlib<3.7,>=3.2->ydata-profiling) (1.4.2)\n",
            "Requirement already satisfied: python-dateutil>=2.7 in c:\\users\\yagnashree velanki\\anaconda3\\lib\\site-packages (from matplotlib<3.7,>=3.2->ydata-profiling) (2.8.2)\n",
            "Requirement already satisfied: pyparsing>=2.2.1 in c:\\users\\yagnashree velanki\\anaconda3\\lib\\site-packages (from matplotlib<3.7,>=3.2->ydata-profiling) (3.0.9)\n",
            "Requirement already satisfied: pytz>=2020.1 in c:\\users\\yagnashree velanki\\anaconda3\\lib\\site-packages (from pandas!=1.4.0,<1.6,>1.1->ydata-profiling) (2022.1)\n",
            "Requirement already satisfied: joblib>=0.14.1 in c:\\users\\yagnashree velanki\\anaconda3\\lib\\site-packages (from phik<0.13,>=0.11.1->ydata-profiling) (1.2.0)\n",
            "Requirement already satisfied: typing-extensions>=4.2.0 in c:\\users\\yagnashree velanki\\anaconda3\\lib\\site-packages (from pydantic<1.11,>=1.8.1->ydata-profiling) (4.3.0)\n",
            "Requirement already satisfied: urllib3<1.27,>=1.21.1 in c:\\users\\yagnashree velanki\\anaconda3\\lib\\site-packages (from requests<2.29,>=2.24.0->ydata-profiling) (1.26.11)\n",
            "Requirement already satisfied: certifi>=2017.4.17 in c:\\users\\yagnashree velanki\\anaconda3\\lib\\site-packages (from requests<2.29,>=2.24.0->ydata-profiling) (2022.9.14)\n",
            "Requirement already satisfied: idna<4,>=2.5 in c:\\users\\yagnashree velanki\\anaconda3\\lib\\site-packages (from requests<2.29,>=2.24.0->ydata-profiling) (3.3)\n",
            "Requirement already satisfied: charset-normalizer<3,>=2 in c:\\users\\yagnashree velanki\\anaconda3\\lib\\site-packages (from requests<2.29,>=2.24.0->ydata-profiling) (2.0.4)\n",
            "Requirement already satisfied: patsy>=0.5.2 in c:\\users\\yagnashree velanki\\anaconda3\\lib\\site-packages (from statsmodels<0.14,>=0.13.2->ydata-profiling) (0.5.2)\n",
            "Requirement already satisfied: colorama in c:\\users\\yagnashree velanki\\anaconda3\\lib\\site-packages (from tqdm<4.65,>=4.48.2->ydata-profiling) (0.4.5)\n",
            "Requirement already satisfied: six in c:\\users\\yagnashree velanki\\anaconda3\\lib\\site-packages (from patsy>=0.5.2->statsmodels<0.14,>=0.13.2->ydata-profiling) (1.16.0)\n",
            "Note: you may need to restart the kernel to use updated packages.\n"
          ]
        }
      ],
      "source": [
        "pip install ydata-profiling"
      ]
    },
    {
      "cell_type": "code",
      "execution_count": 2,
      "metadata": {
        "id": "qy9JvABomXXe"
      },
      "outputs": [
        {
          "name": "stderr",
          "output_type": "stream",
          "text": [
            "C:\\Users\\Yagnashree Velanki\\AppData\\Local\\Temp\\ipykernel_11468\\1054899680.py:6: DeprecationWarning: `import pandas_profiling` is going to be deprecated by April 1st. Please use `import ydata_profiling` instead.\n",
            "  import pandas_profiling\n"
          ]
        }
      ],
      "source": [
        "import pandas as pd, numpy as np\n",
        "from sklearn.preprocessing import StandardScaler, LabelEncoder\n",
        "from sklearn.feature_selection import SelectKBest, f_regression, RFE\n",
        "from sklearn.tree import DecisionTreeRegressor\n",
        "import seaborn as sns, matplotlib.pyplot as plt\n",
        "import pandas_profiling\n",
        "import warnings\n",
        "warnings.simplefilter(\"ignore\")"
      ]
    },
    {
      "cell_type": "code",
      "execution_count": 3,
      "metadata": {
        "colab": {
          "base_uri": "https://localhost:8080/",
          "height": 206
        },
        "id": "VNO2LX9BqfJO",
        "outputId": "754f42e0-958d-45ea-eecd-5e778c817752"
      },
      "outputs": [
        {
          "data": {
            "text/html": [
              "<div>\n",
              "<style scoped>\n",
              "    .dataframe tbody tr th:only-of-type {\n",
              "        vertical-align: middle;\n",
              "    }\n",
              "\n",
              "    .dataframe tbody tr th {\n",
              "        vertical-align: top;\n",
              "    }\n",
              "\n",
              "    .dataframe thead th {\n",
              "        text-align: right;\n",
              "    }\n",
              "</style>\n",
              "<table border=\"1\" class=\"dataframe\">\n",
              "  <thead>\n",
              "    <tr style=\"text-align: right;\">\n",
              "      <th></th>\n",
              "      <th>ProductID</th>\n",
              "      <th>Weight</th>\n",
              "      <th>FatContent</th>\n",
              "      <th>ProductVisibility</th>\n",
              "      <th>ProductType</th>\n",
              "      <th>MRP</th>\n",
              "      <th>OutletID</th>\n",
              "      <th>EstablishmentYear</th>\n",
              "      <th>OutletSize</th>\n",
              "      <th>LocationType</th>\n",
              "      <th>OutletType</th>\n",
              "      <th>OutletSales</th>\n",
              "    </tr>\n",
              "  </thead>\n",
              "  <tbody>\n",
              "    <tr>\n",
              "      <th>0</th>\n",
              "      <td>FDA15</td>\n",
              "      <td>9.30</td>\n",
              "      <td>Low Fat</td>\n",
              "      <td>0.016047</td>\n",
              "      <td>Dairy</td>\n",
              "      <td>249.8092</td>\n",
              "      <td>OUT049</td>\n",
              "      <td>1999</td>\n",
              "      <td>Medium</td>\n",
              "      <td>Tier 1</td>\n",
              "      <td>Supermarket Type1</td>\n",
              "      <td>3735.1380</td>\n",
              "    </tr>\n",
              "    <tr>\n",
              "      <th>1</th>\n",
              "      <td>DRC01</td>\n",
              "      <td>5.92</td>\n",
              "      <td>Regular</td>\n",
              "      <td>0.019278</td>\n",
              "      <td>Soft Drinks</td>\n",
              "      <td>48.2692</td>\n",
              "      <td>OUT018</td>\n",
              "      <td>2009</td>\n",
              "      <td>Medium</td>\n",
              "      <td>Tier 3</td>\n",
              "      <td>Supermarket Type2</td>\n",
              "      <td>443.4228</td>\n",
              "    </tr>\n",
              "    <tr>\n",
              "      <th>2</th>\n",
              "      <td>FDN15</td>\n",
              "      <td>17.50</td>\n",
              "      <td>Low Fat</td>\n",
              "      <td>0.016760</td>\n",
              "      <td>Meat</td>\n",
              "      <td>141.6180</td>\n",
              "      <td>OUT049</td>\n",
              "      <td>1999</td>\n",
              "      <td>Medium</td>\n",
              "      <td>Tier 1</td>\n",
              "      <td>Supermarket Type1</td>\n",
              "      <td>2097.2700</td>\n",
              "    </tr>\n",
              "    <tr>\n",
              "      <th>3</th>\n",
              "      <td>FDX07</td>\n",
              "      <td>19.20</td>\n",
              "      <td>Regular</td>\n",
              "      <td>0.000000</td>\n",
              "      <td>Fruits and Vegetables</td>\n",
              "      <td>182.0950</td>\n",
              "      <td>OUT010</td>\n",
              "      <td>1998</td>\n",
              "      <td>NaN</td>\n",
              "      <td>Tier 3</td>\n",
              "      <td>Grocery Store</td>\n",
              "      <td>732.3800</td>\n",
              "    </tr>\n",
              "    <tr>\n",
              "      <th>4</th>\n",
              "      <td>NCD19</td>\n",
              "      <td>8.93</td>\n",
              "      <td>Low Fat</td>\n",
              "      <td>0.000000</td>\n",
              "      <td>Household</td>\n",
              "      <td>53.8614</td>\n",
              "      <td>OUT013</td>\n",
              "      <td>1987</td>\n",
              "      <td>High</td>\n",
              "      <td>Tier 3</td>\n",
              "      <td>Supermarket Type1</td>\n",
              "      <td>994.7052</td>\n",
              "    </tr>\n",
              "  </tbody>\n",
              "</table>\n",
              "</div>"
            ],
            "text/plain": [
              "  ProductID  Weight FatContent  ProductVisibility            ProductType  \\\n",
              "0     FDA15    9.30    Low Fat           0.016047                  Dairy   \n",
              "1     DRC01    5.92    Regular           0.019278            Soft Drinks   \n",
              "2     FDN15   17.50    Low Fat           0.016760                   Meat   \n",
              "3     FDX07   19.20    Regular           0.000000  Fruits and Vegetables   \n",
              "4     NCD19    8.93    Low Fat           0.000000              Household   \n",
              "\n",
              "        MRP OutletID  EstablishmentYear OutletSize LocationType  \\\n",
              "0  249.8092   OUT049               1999     Medium       Tier 1   \n",
              "1   48.2692   OUT018               2009     Medium       Tier 3   \n",
              "2  141.6180   OUT049               1999     Medium       Tier 1   \n",
              "3  182.0950   OUT010               1998        NaN       Tier 3   \n",
              "4   53.8614   OUT013               1987       High       Tier 3   \n",
              "\n",
              "          OutletType  OutletSales  \n",
              "0  Supermarket Type1    3735.1380  \n",
              "1  Supermarket Type2     443.4228  \n",
              "2  Supermarket Type1    2097.2700  \n",
              "3      Grocery Store     732.3800  \n",
              "4  Supermarket Type1     994.7052  "
            ]
          },
          "execution_count": 3,
          "metadata": {},
          "output_type": "execute_result"
        }
      ],
      "source": [
        "# Reading Train datasets\n",
        "train = pd.read_csv(\"Train-Set.csv\")\n",
        "train.head(5)"
      ]
    },
    {
      "cell_type": "code",
      "execution_count": 4,
      "metadata": {
        "colab": {
          "base_uri": "https://localhost:8080/",
          "height": 206
        },
        "id": "o6drVm8Yqkk1",
        "outputId": "2101318d-0276-4f5e-f09f-a00a528a4fb4"
      },
      "outputs": [
        {
          "data": {
            "text/html": [
              "<div>\n",
              "<style scoped>\n",
              "    .dataframe tbody tr th:only-of-type {\n",
              "        vertical-align: middle;\n",
              "    }\n",
              "\n",
              "    .dataframe tbody tr th {\n",
              "        vertical-align: top;\n",
              "    }\n",
              "\n",
              "    .dataframe thead th {\n",
              "        text-align: right;\n",
              "    }\n",
              "</style>\n",
              "<table border=\"1\" class=\"dataframe\">\n",
              "  <thead>\n",
              "    <tr style=\"text-align: right;\">\n",
              "      <th></th>\n",
              "      <th>ProductID</th>\n",
              "      <th>Weight</th>\n",
              "      <th>FatContent</th>\n",
              "      <th>ProductVisibility</th>\n",
              "      <th>ProductType</th>\n",
              "      <th>MRP</th>\n",
              "      <th>OutletID</th>\n",
              "      <th>EstablishmentYear</th>\n",
              "      <th>OutletSize</th>\n",
              "      <th>LocationType</th>\n",
              "      <th>OutletType</th>\n",
              "    </tr>\n",
              "  </thead>\n",
              "  <tbody>\n",
              "    <tr>\n",
              "      <th>0</th>\n",
              "      <td>FDW58</td>\n",
              "      <td>20.750</td>\n",
              "      <td>Low Fat</td>\n",
              "      <td>0.007565</td>\n",
              "      <td>Snack Foods</td>\n",
              "      <td>107.8622</td>\n",
              "      <td>OUT049</td>\n",
              "      <td>1999</td>\n",
              "      <td>Medium</td>\n",
              "      <td>Tier 1</td>\n",
              "      <td>Supermarket Type1</td>\n",
              "    </tr>\n",
              "    <tr>\n",
              "      <th>1</th>\n",
              "      <td>FDW14</td>\n",
              "      <td>8.300</td>\n",
              "      <td>reg</td>\n",
              "      <td>0.038428</td>\n",
              "      <td>Dairy</td>\n",
              "      <td>87.3198</td>\n",
              "      <td>OUT017</td>\n",
              "      <td>2007</td>\n",
              "      <td>NaN</td>\n",
              "      <td>Tier 2</td>\n",
              "      <td>Supermarket Type1</td>\n",
              "    </tr>\n",
              "    <tr>\n",
              "      <th>2</th>\n",
              "      <td>NCN55</td>\n",
              "      <td>14.600</td>\n",
              "      <td>Low Fat</td>\n",
              "      <td>0.099575</td>\n",
              "      <td>Others</td>\n",
              "      <td>241.7538</td>\n",
              "      <td>OUT010</td>\n",
              "      <td>1998</td>\n",
              "      <td>NaN</td>\n",
              "      <td>Tier 3</td>\n",
              "      <td>Grocery Store</td>\n",
              "    </tr>\n",
              "    <tr>\n",
              "      <th>3</th>\n",
              "      <td>FDQ58</td>\n",
              "      <td>7.315</td>\n",
              "      <td>Low Fat</td>\n",
              "      <td>0.015388</td>\n",
              "      <td>Snack Foods</td>\n",
              "      <td>155.0340</td>\n",
              "      <td>OUT017</td>\n",
              "      <td>2007</td>\n",
              "      <td>NaN</td>\n",
              "      <td>Tier 2</td>\n",
              "      <td>Supermarket Type1</td>\n",
              "    </tr>\n",
              "    <tr>\n",
              "      <th>4</th>\n",
              "      <td>FDY38</td>\n",
              "      <td>NaN</td>\n",
              "      <td>Regular</td>\n",
              "      <td>0.118599</td>\n",
              "      <td>Dairy</td>\n",
              "      <td>234.2300</td>\n",
              "      <td>OUT027</td>\n",
              "      <td>1985</td>\n",
              "      <td>Medium</td>\n",
              "      <td>Tier 3</td>\n",
              "      <td>Supermarket Type3</td>\n",
              "    </tr>\n",
              "  </tbody>\n",
              "</table>\n",
              "</div>"
            ],
            "text/plain": [
              "  ProductID  Weight FatContent  ProductVisibility  ProductType       MRP  \\\n",
              "0     FDW58  20.750    Low Fat           0.007565  Snack Foods  107.8622   \n",
              "1     FDW14   8.300        reg           0.038428        Dairy   87.3198   \n",
              "2     NCN55  14.600    Low Fat           0.099575       Others  241.7538   \n",
              "3     FDQ58   7.315    Low Fat           0.015388  Snack Foods  155.0340   \n",
              "4     FDY38     NaN    Regular           0.118599        Dairy  234.2300   \n",
              "\n",
              "  OutletID  EstablishmentYear OutletSize LocationType         OutletType  \n",
              "0   OUT049               1999     Medium       Tier 1  Supermarket Type1  \n",
              "1   OUT017               2007        NaN       Tier 2  Supermarket Type1  \n",
              "2   OUT010               1998        NaN       Tier 3      Grocery Store  \n",
              "3   OUT017               2007        NaN       Tier 2  Supermarket Type1  \n",
              "4   OUT027               1985     Medium       Tier 3  Supermarket Type3  "
            ]
          },
          "execution_count": 4,
          "metadata": {},
          "output_type": "execute_result"
        }
      ],
      "source": [
        "# Reading Test datasets\n",
        "test = pd.read_csv(\"Test-Set.csv\")\n",
        "test.head(5)"
      ]
    },
    {
      "cell_type": "code",
      "execution_count": 5,
      "metadata": {
        "colab": {
          "base_uri": "https://localhost:8080/"
        },
        "id": "OMobVSzaqmuz",
        "outputId": "afc93111-8b43-4210-aed1-d5d8eddece4b"
      },
      "outputs": [
        {
          "name": "stdout",
          "output_type": "stream",
          "text": [
            "Columns in Train set Index(['ProductID', 'Weight', 'FatContent', 'ProductVisibility', 'ProductType',\n",
            "       'MRP', 'OutletID', 'EstablishmentYear', 'OutletSize', 'LocationType',\n",
            "       'OutletType', 'OutletSales'],\n",
            "      dtype='object')\n",
            "Columns in Test set Index(['ProductID', 'Weight', 'FatContent', 'ProductVisibility', 'ProductType',\n",
            "       'MRP', 'OutletID', 'EstablishmentYear', 'OutletSize', 'LocationType',\n",
            "       'OutletType'],\n",
            "      dtype='object')\n"
          ]
        }
      ],
      "source": [
        "# Columns in the datasets \n",
        "print('Columns in Train set', train.columns)\n",
        "print('Columns in Test set', test.columns)"
      ]
    },
    {
      "cell_type": "code",
      "execution_count": 6,
      "metadata": {
        "colab": {
          "base_uri": "https://localhost:8080/"
        },
        "id": "G5DgZu4kqncd",
        "outputId": "01419263-8483-4f40-f265-d111951158c2"
      },
      "outputs": [
        {
          "name": "stdout",
          "output_type": "stream",
          "text": [
            "Shape of Train set (8523, 12)\n",
            "Shape of Test set (5681, 11)\n"
          ]
        }
      ],
      "source": [
        "# shape of datasets\n",
        "print('Shape of Train set', train.shape)\n",
        "print('Shape of Test set', test.shape)"
      ]
    },
    {
      "cell_type": "code",
      "execution_count": 7,
      "metadata": {
        "colab": {
          "base_uri": "https://localhost:8080/"
        },
        "id": "J2P_kWycqplN",
        "outputId": "615b3413-1894-4d52-99d0-02f83688d69a"
      },
      "outputs": [
        {
          "name": "stdout",
          "output_type": "stream",
          "text": [
            "Description of Train set \n",
            " \n",
            "<class 'pandas.core.frame.DataFrame'>\n",
            "RangeIndex: 8523 entries, 0 to 8522\n",
            "Data columns (total 12 columns):\n",
            " #   Column             Non-Null Count  Dtype  \n",
            "---  ------             --------------  -----  \n",
            " 0   ProductID          8523 non-null   object \n",
            " 1   Weight             7060 non-null   float64\n",
            " 2   FatContent         8523 non-null   object \n",
            " 3   ProductVisibility  8523 non-null   float64\n",
            " 4   ProductType        8523 non-null   object \n",
            " 5   MRP                8523 non-null   float64\n",
            " 6   OutletID           8523 non-null   object \n",
            " 7   EstablishmentYear  8523 non-null   int64  \n",
            " 8   OutletSize         6113 non-null   object \n",
            " 9   LocationType       8523 non-null   object \n",
            " 10  OutletType         8523 non-null   object \n",
            " 11  OutletSales        8523 non-null   float64\n",
            "dtypes: float64(4), int64(1), object(7)\n",
            "memory usage: 799.2+ KB\n"
          ]
        }
      ],
      "source": [
        "# Different data types in the datasets\n",
        "print('Description of Train set \\n ')\n",
        "train.info()"
      ]
    },
    {
      "cell_type": "code",
      "execution_count": 8,
      "metadata": {
        "colab": {
          "base_uri": "https://localhost:8080/"
        },
        "id": "W4iuMC6vqrtN",
        "outputId": "043d3c21-5b88-498d-d169-8a3a7bbe03da"
      },
      "outputs": [
        {
          "name": "stdout",
          "output_type": "stream",
          "text": [
            "Description of Train set \n",
            "\n",
            "<class 'pandas.core.frame.DataFrame'>\n",
            "RangeIndex: 5681 entries, 0 to 5680\n",
            "Data columns (total 11 columns):\n",
            " #   Column             Non-Null Count  Dtype  \n",
            "---  ------             --------------  -----  \n",
            " 0   ProductID          5681 non-null   object \n",
            " 1   Weight             4705 non-null   float64\n",
            " 2   FatContent         5681 non-null   object \n",
            " 3   ProductVisibility  5681 non-null   float64\n",
            " 4   ProductType        5681 non-null   object \n",
            " 5   MRP                5681 non-null   float64\n",
            " 6   OutletID           5681 non-null   object \n",
            " 7   EstablishmentYear  5681 non-null   int64  \n",
            " 8   OutletSize         4075 non-null   object \n",
            " 9   LocationType       5681 non-null   object \n",
            " 10  OutletType         5681 non-null   object \n",
            "dtypes: float64(3), int64(1), object(7)\n",
            "memory usage: 488.3+ KB\n"
          ]
        }
      ],
      "source": [
        "print('Description of Train set \\n')\n",
        "test.info()"
      ]
    },
    {
      "cell_type": "code",
      "execution_count": 9,
      "metadata": {
        "colab": {
          "base_uri": "https://localhost:8080/",
          "height": 529
        },
        "id": "sF7ig85gqtdV",
        "outputId": "10e27420-e8b5-4491-c413-e25f97dbaf5e"
      },
      "outputs": [
        {
          "data": {
            "image/png": "[encoded data removed]",
            "text/plain": [
              "<Figure size 640x480 with 1 Axes>"
            ]
          },
          "metadata": {},
          "output_type": "display_data"
        }
      ],
      "source": [
        "# There are some missing values in the train and test datasets. Attributes with missing data are- 'Weight' and 'OutlestSize'\n",
        "# Weight is float datatype and OutletSize is of object datatype\n",
        "Missing_data = train[['Weight', \"OutletSize\"]]\n",
        "\n",
        "# Missing values can be ignored or filled with mean/mode values to neutralize the size of all attributes in the dataset. So, checking on percentage of missing values\n",
        "missing_percentage = Missing_data.isnull().sum() / len(Missing_data) * 100\n",
        "\n",
        "missing_percentage.plot(kind='bar', x='Column', y='Percentage', colormap='Set2')\n",
        "plt.xlabel(\"Attributes\")\n",
        "plt.ylabel(\"Percentage\")\n",
        "plt.title(\"Percentage of missing values for 'Weight' and 'OutletSize' Attributes\")\n",
        "\n",
        "plt.show()"
      ]
    },
    {
      "cell_type": "code",
      "execution_count": 10,
      "metadata": {
        "colab": {
          "base_uri": "https://localhost:8080/",
          "height": 363
        },
        "id": "Xw92ovq-qydU",
        "outputId": "0d0b2eb0-0bea-4f01-da81-fa2e488c43f0"
      },
      "outputs": [
        {
          "data": {
            "text/html": [
              "<div>\n",
              "<style scoped>\n",
              "    .dataframe tbody tr th:only-of-type {\n",
              "        vertical-align: middle;\n",
              "    }\n",
              "\n",
              "    .dataframe tbody tr th {\n",
              "        vertical-align: top;\n",
              "    }\n",
              "\n",
              "    .dataframe thead th {\n",
              "        text-align: right;\n",
              "    }\n",
              "</style>\n",
              "<table border=\"1\" class=\"dataframe\">\n",
              "  <thead>\n",
              "    <tr style=\"text-align: right;\">\n",
              "      <th></th>\n",
              "      <th>ProductID</th>\n",
              "      <th>Weight</th>\n",
              "      <th>FatContent</th>\n",
              "      <th>ProductVisibility</th>\n",
              "      <th>ProductType</th>\n",
              "      <th>MRP</th>\n",
              "      <th>OutletID</th>\n",
              "      <th>EstablishmentYear</th>\n",
              "      <th>OutletSize</th>\n",
              "      <th>LocationType</th>\n",
              "      <th>OutletType</th>\n",
              "      <th>OutletSales</th>\n",
              "    </tr>\n",
              "  </thead>\n",
              "  <tbody>\n",
              "    <tr>\n",
              "      <th>8043</th>\n",
              "      <td>DRA12</td>\n",
              "      <td>11.60</td>\n",
              "      <td>Low Fat</td>\n",
              "      <td>0.068535</td>\n",
              "      <td>Soft Drinks</td>\n",
              "      <td>143.0154</td>\n",
              "      <td>OUT010</td>\n",
              "      <td>1998</td>\n",
              "      <td>NaN</td>\n",
              "      <td>Tier 3</td>\n",
              "      <td>Grocery Store</td>\n",
              "      <td>283.6308</td>\n",
              "    </tr>\n",
              "    <tr>\n",
              "      <th>118</th>\n",
              "      <td>DRA12</td>\n",
              "      <td>11.60</td>\n",
              "      <td>Low Fat</td>\n",
              "      <td>0.041178</td>\n",
              "      <td>Soft Drinks</td>\n",
              "      <td>140.3154</td>\n",
              "      <td>OUT017</td>\n",
              "      <td>2007</td>\n",
              "      <td>NaN</td>\n",
              "      <td>Tier 2</td>\n",
              "      <td>Supermarket Type1</td>\n",
              "      <td>2552.6772</td>\n",
              "    </tr>\n",
              "    <tr>\n",
              "      <th>1693</th>\n",
              "      <td>DRA12</td>\n",
              "      <td>11.60</td>\n",
              "      <td>LF</td>\n",
              "      <td>0.000000</td>\n",
              "      <td>Soft Drinks</td>\n",
              "      <td>141.9154</td>\n",
              "      <td>OUT035</td>\n",
              "      <td>2004</td>\n",
              "      <td>Small</td>\n",
              "      <td>Tier 2</td>\n",
              "      <td>Supermarket Type1</td>\n",
              "      <td>992.7078</td>\n",
              "    </tr>\n",
              "    <tr>\n",
              "      <th>1197</th>\n",
              "      <td>DRA12</td>\n",
              "      <td>11.60</td>\n",
              "      <td>Low Fat</td>\n",
              "      <td>0.000000</td>\n",
              "      <td>Soft Drinks</td>\n",
              "      <td>141.6154</td>\n",
              "      <td>OUT045</td>\n",
              "      <td>2002</td>\n",
              "      <td>NaN</td>\n",
              "      <td>Tier 2</td>\n",
              "      <td>Supermarket Type1</td>\n",
              "      <td>3829.0158</td>\n",
              "    </tr>\n",
              "    <tr>\n",
              "      <th>1245</th>\n",
              "      <td>DRA12</td>\n",
              "      <td>11.60</td>\n",
              "      <td>Low Fat</td>\n",
              "      <td>0.040912</td>\n",
              "      <td>Soft Drinks</td>\n",
              "      <td>142.3154</td>\n",
              "      <td>OUT013</td>\n",
              "      <td>1987</td>\n",
              "      <td>High</td>\n",
              "      <td>Tier 3</td>\n",
              "      <td>Supermarket Type1</td>\n",
              "      <td>2552.6772</td>\n",
              "    </tr>\n",
              "    <tr>\n",
              "      <th>7467</th>\n",
              "      <td>DRA12</td>\n",
              "      <td>11.60</td>\n",
              "      <td>Low Fat</td>\n",
              "      <td>0.041113</td>\n",
              "      <td>Soft Drinks</td>\n",
              "      <td>142.0154</td>\n",
              "      <td>OUT018</td>\n",
              "      <td>2009</td>\n",
              "      <td>Medium</td>\n",
              "      <td>Tier 3</td>\n",
              "      <td>Supermarket Type2</td>\n",
              "      <td>850.8924</td>\n",
              "    </tr>\n",
              "    <tr>\n",
              "      <th>8195</th>\n",
              "      <td>DRA24</td>\n",
              "      <td>19.35</td>\n",
              "      <td>Regular</td>\n",
              "      <td>0.039895</td>\n",
              "      <td>Soft Drinks</td>\n",
              "      <td>162.4868</td>\n",
              "      <td>OUT013</td>\n",
              "      <td>1987</td>\n",
              "      <td>High</td>\n",
              "      <td>Tier 3</td>\n",
              "      <td>Supermarket Type1</td>\n",
              "      <td>4422.2436</td>\n",
              "    </tr>\n",
              "    <tr>\n",
              "      <th>6863</th>\n",
              "      <td>DRA24</td>\n",
              "      <td>19.35</td>\n",
              "      <td>Regular</td>\n",
              "      <td>0.039990</td>\n",
              "      <td>Soft Drinks</td>\n",
              "      <td>165.0868</td>\n",
              "      <td>OUT049</td>\n",
              "      <td>1999</td>\n",
              "      <td>Medium</td>\n",
              "      <td>Tier 1</td>\n",
              "      <td>Supermarket Type1</td>\n",
              "      <td>982.7208</td>\n",
              "    </tr>\n",
              "    <tr>\n",
              "      <th>2879</th>\n",
              "      <td>DRA24</td>\n",
              "      <td>NaN</td>\n",
              "      <td>Regular</td>\n",
              "      <td>0.069909</td>\n",
              "      <td>Soft Drinks</td>\n",
              "      <td>163.2868</td>\n",
              "      <td>OUT019</td>\n",
              "      <td>1985</td>\n",
              "      <td>Small</td>\n",
              "      <td>Tier 1</td>\n",
              "      <td>Grocery Store</td>\n",
              "      <td>491.3604</td>\n",
              "    </tr>\n",
              "    <tr>\n",
              "      <th>4416</th>\n",
              "      <td>DRA24</td>\n",
              "      <td>NaN</td>\n",
              "      <td>Regular</td>\n",
              "      <td>0.039735</td>\n",
              "      <td>Soft Drinks</td>\n",
              "      <td>165.7868</td>\n",
              "      <td>OUT027</td>\n",
              "      <td>1985</td>\n",
              "      <td>Medium</td>\n",
              "      <td>Tier 3</td>\n",
              "      <td>Supermarket Type3</td>\n",
              "      <td>4913.6040</td>\n",
              "    </tr>\n",
              "  </tbody>\n",
              "</table>\n",
              "</div>"
            ],
            "text/plain": [
              "     ProductID  Weight FatContent  ProductVisibility  ProductType       MRP  \\\n",
              "8043     DRA12   11.60    Low Fat           0.068535  Soft Drinks  143.0154   \n",
              "118      DRA12   11.60    Low Fat           0.041178  Soft Drinks  140.3154   \n",
              "1693     DRA12   11.60         LF           0.000000  Soft Drinks  141.9154   \n",
              "1197     DRA12   11.60    Low Fat           0.000000  Soft Drinks  141.6154   \n",
              "1245     DRA12   11.60    Low Fat           0.040912  Soft Drinks  142.3154   \n",
              "7467     DRA12   11.60    Low Fat           0.041113  Soft Drinks  142.0154   \n",
              "8195     DRA24   19.35    Regular           0.039895  Soft Drinks  162.4868   \n",
              "6863     DRA24   19.35    Regular           0.039990  Soft Drinks  165.0868   \n",
              "2879     DRA24     NaN    Regular           0.069909  Soft Drinks  163.2868   \n",
              "4416     DRA24     NaN    Regular           0.039735  Soft Drinks  165.7868   \n",
              "\n",
              "     OutletID  EstablishmentYear OutletSize LocationType         OutletType  \\\n",
              "8043   OUT010               1998        NaN       Tier 3      Grocery Store   \n",
              "118    OUT017               2007        NaN       Tier 2  Supermarket Type1   \n",
              "1693   OUT035               2004      Small       Tier 2  Supermarket Type1   \n",
              "1197   OUT045               2002        NaN       Tier 2  Supermarket Type1   \n",
              "1245   OUT013               1987       High       Tier 3  Supermarket Type1   \n",
              "7467   OUT018               2009     Medium       Tier 3  Supermarket Type2   \n",
              "8195   OUT013               1987       High       Tier 3  Supermarket Type1   \n",
              "6863   OUT049               1999     Medium       Tier 1  Supermarket Type1   \n",
              "2879   OUT019               1985      Small       Tier 1      Grocery Store   \n",
              "4416   OUT027               1985     Medium       Tier 3  Supermarket Type3   \n",
              "\n",
              "      OutletSales  \n",
              "8043     283.6308  \n",
              "118     2552.6772  \n",
              "1693     992.7078  \n",
              "1197    3829.0158  \n",
              "1245    2552.6772  \n",
              "7467     850.8924  \n",
              "8195    4422.2436  \n",
              "6863     982.7208  \n",
              "2879     491.3604  \n",
              "4416    4913.6040  "
            ]
          },
          "execution_count": 10,
          "metadata": {},
          "output_type": "execute_result"
        }
      ],
      "source": [
        "train_sorted = train.sort_values(by=['ProductID'])\n",
        "train_sorted.head(10)"
      ]
    },
    {
      "cell_type": "code",
      "execution_count": 11,
      "metadata": {
        "colab": {
          "base_uri": "https://localhost:8080/",
          "height": 363
        },
        "id": "j1coM4ynq0oF",
        "outputId": "54364519-c327-44d7-99b2-4a0d2b678482"
      },
      "outputs": [
        {
          "data": {
            "text/html": [
              "<div>\n",
              "<style scoped>\n",
              "    .dataframe tbody tr th:only-of-type {\n",
              "        vertical-align: middle;\n",
              "    }\n",
              "\n",
              "    .dataframe tbody tr th {\n",
              "        vertical-align: top;\n",
              "    }\n",
              "\n",
              "    .dataframe thead th {\n",
              "        text-align: right;\n",
              "    }\n",
              "</style>\n",
              "<table border=\"1\" class=\"dataframe\">\n",
              "  <thead>\n",
              "    <tr style=\"text-align: right;\">\n",
              "      <th></th>\n",
              "      <th>ProductID</th>\n",
              "      <th>Weight</th>\n",
              "      <th>FatContent</th>\n",
              "      <th>ProductVisibility</th>\n",
              "      <th>ProductType</th>\n",
              "      <th>MRP</th>\n",
              "      <th>OutletID</th>\n",
              "      <th>EstablishmentYear</th>\n",
              "      <th>OutletSize</th>\n",
              "      <th>LocationType</th>\n",
              "      <th>OutletType</th>\n",
              "      <th>OutletSales</th>\n",
              "    </tr>\n",
              "  </thead>\n",
              "  <tbody>\n",
              "    <tr>\n",
              "      <th>2084</th>\n",
              "      <td>NCZ53</td>\n",
              "      <td>NaN</td>\n",
              "      <td>Low Fat</td>\n",
              "      <td>0.024359</td>\n",
              "      <td>Health and Hygiene</td>\n",
              "      <td>190.4214</td>\n",
              "      <td>OUT027</td>\n",
              "      <td>1985</td>\n",
              "      <td>Medium</td>\n",
              "      <td>Tier 3</td>\n",
              "      <td>Supermarket Type3</td>\n",
              "      <td>5652.6420</td>\n",
              "    </tr>\n",
              "    <tr>\n",
              "      <th>1267</th>\n",
              "      <td>NCZ53</td>\n",
              "      <td>9.60</td>\n",
              "      <td>Low Fat</td>\n",
              "      <td>0.024577</td>\n",
              "      <td>Health and Hygiene</td>\n",
              "      <td>186.6214</td>\n",
              "      <td>OUT018</td>\n",
              "      <td>2009</td>\n",
              "      <td>Medium</td>\n",
              "      <td>Tier 3</td>\n",
              "      <td>Supermarket Type2</td>\n",
              "      <td>1884.2140</td>\n",
              "    </tr>\n",
              "    <tr>\n",
              "      <th>3959</th>\n",
              "      <td>NCZ53</td>\n",
              "      <td>9.60</td>\n",
              "      <td>Low Fat</td>\n",
              "      <td>0.024457</td>\n",
              "      <td>Health and Hygiene</td>\n",
              "      <td>186.6214</td>\n",
              "      <td>OUT013</td>\n",
              "      <td>1987</td>\n",
              "      <td>High</td>\n",
              "      <td>Tier 3</td>\n",
              "      <td>Supermarket Type1</td>\n",
              "      <td>3203.1638</td>\n",
              "    </tr>\n",
              "    <tr>\n",
              "      <th>2839</th>\n",
              "      <td>NCZ54</td>\n",
              "      <td>14.65</td>\n",
              "      <td>Low Fat</td>\n",
              "      <td>0.083359</td>\n",
              "      <td>Household</td>\n",
              "      <td>161.9552</td>\n",
              "      <td>OUT046</td>\n",
              "      <td>1997</td>\n",
              "      <td>Small</td>\n",
              "      <td>Tier 1</td>\n",
              "      <td>Supermarket Type1</td>\n",
              "      <td>4711.2008</td>\n",
              "    </tr>\n",
              "    <tr>\n",
              "      <th>1969</th>\n",
              "      <td>NCZ54</td>\n",
              "      <td>14.65</td>\n",
              "      <td>Low Fat</td>\n",
              "      <td>0.083528</td>\n",
              "      <td>Household</td>\n",
              "      <td>162.4552</td>\n",
              "      <td>OUT045</td>\n",
              "      <td>2002</td>\n",
              "      <td>NaN</td>\n",
              "      <td>Tier 2</td>\n",
              "      <td>Supermarket Type1</td>\n",
              "      <td>2274.3728</td>\n",
              "    </tr>\n",
              "    <tr>\n",
              "      <th>7926</th>\n",
              "      <td>NCZ54</td>\n",
              "      <td>14.65</td>\n",
              "      <td>Low Fat</td>\n",
              "      <td>0.083489</td>\n",
              "      <td>Household</td>\n",
              "      <td>161.3552</td>\n",
              "      <td>OUT049</td>\n",
              "      <td>1999</td>\n",
              "      <td>Medium</td>\n",
              "      <td>Tier 1</td>\n",
              "      <td>Supermarket Type1</td>\n",
              "      <td>7148.0288</td>\n",
              "    </tr>\n",
              "    <tr>\n",
              "      <th>214</th>\n",
              "      <td>NCZ54</td>\n",
              "      <td>14.65</td>\n",
              "      <td>Low Fat</td>\n",
              "      <td>0.000000</td>\n",
              "      <td>Household</td>\n",
              "      <td>161.5552</td>\n",
              "      <td>OUT010</td>\n",
              "      <td>1998</td>\n",
              "      <td>NaN</td>\n",
              "      <td>Tier 3</td>\n",
              "      <td>Grocery Store</td>\n",
              "      <td>324.9104</td>\n",
              "    </tr>\n",
              "    <tr>\n",
              "      <th>1896</th>\n",
              "      <td>NCZ54</td>\n",
              "      <td>NaN</td>\n",
              "      <td>Low Fat</td>\n",
              "      <td>0.082956</td>\n",
              "      <td>Household</td>\n",
              "      <td>164.0552</td>\n",
              "      <td>OUT027</td>\n",
              "      <td>1985</td>\n",
              "      <td>Medium</td>\n",
              "      <td>Tier 3</td>\n",
              "      <td>Supermarket Type3</td>\n",
              "      <td>5523.4768</td>\n",
              "    </tr>\n",
              "    <tr>\n",
              "      <th>7166</th>\n",
              "      <td>NCZ54</td>\n",
              "      <td>NaN</td>\n",
              "      <td>Low Fat</td>\n",
              "      <td>0.145952</td>\n",
              "      <td>Household</td>\n",
              "      <td>160.9552</td>\n",
              "      <td>OUT019</td>\n",
              "      <td>1985</td>\n",
              "      <td>Small</td>\n",
              "      <td>Tier 1</td>\n",
              "      <td>Grocery Store</td>\n",
              "      <td>162.4552</td>\n",
              "    </tr>\n",
              "    <tr>\n",
              "      <th>7738</th>\n",
              "      <td>NCZ54</td>\n",
              "      <td>14.65</td>\n",
              "      <td>Low Fat</td>\n",
              "      <td>0.083699</td>\n",
              "      <td>Household</td>\n",
              "      <td>163.4552</td>\n",
              "      <td>OUT018</td>\n",
              "      <td>2009</td>\n",
              "      <td>Medium</td>\n",
              "      <td>Tier 3</td>\n",
              "      <td>Supermarket Type2</td>\n",
              "      <td>2599.2832</td>\n",
              "    </tr>\n",
              "  </tbody>\n",
              "</table>\n",
              "</div>"
            ],
            "text/plain": [
              "     ProductID  Weight FatContent  ProductVisibility         ProductType  \\\n",
              "2084     NCZ53     NaN    Low Fat           0.024359  Health and Hygiene   \n",
              "1267     NCZ53    9.60    Low Fat           0.024577  Health and Hygiene   \n",
              "3959     NCZ53    9.60    Low Fat           0.024457  Health and Hygiene   \n",
              "2839     NCZ54   14.65    Low Fat           0.083359           Household   \n",
              "1969     NCZ54   14.65    Low Fat           0.083528           Household   \n",
              "7926     NCZ54   14.65    Low Fat           0.083489           Household   \n",
              "214      NCZ54   14.65    Low Fat           0.000000           Household   \n",
              "1896     NCZ54     NaN    Low Fat           0.082956           Household   \n",
              "7166     NCZ54     NaN    Low Fat           0.145952           Household   \n",
              "7738     NCZ54   14.65    Low Fat           0.083699           Household   \n",
              "\n",
              "           MRP OutletID  EstablishmentYear OutletSize LocationType  \\\n",
              "2084  190.4214   OUT027               1985     Medium       Tier 3   \n",
              "1267  186.6214   OUT018               2009     Medium       Tier 3   \n",
              "3959  186.6214   OUT013               1987       High       Tier 3   \n",
              "2839  161.9552   OUT046               1997      Small       Tier 1   \n",
              "1969  162.4552   OUT045               2002        NaN       Tier 2   \n",
              "7926  161.3552   OUT049               1999     Medium       Tier 1   \n",
              "214   161.5552   OUT010               1998        NaN       Tier 3   \n",
              "1896  164.0552   OUT027               1985     Medium       Tier 3   \n",
              "7166  160.9552   OUT019               1985      Small       Tier 1   \n",
              "7738  163.4552   OUT018               2009     Medium       Tier 3   \n",
              "\n",
              "             OutletType  OutletSales  \n",
              "2084  Supermarket Type3    5652.6420  \n",
              "1267  Supermarket Type2    1884.2140  \n",
              "3959  Supermarket Type1    3203.1638  \n",
              "2839  Supermarket Type1    4711.2008  \n",
              "1969  Supermarket Type1    2274.3728  \n",
              "7926  Supermarket Type1    7148.0288  \n",
              "214       Grocery Store     324.9104  \n",
              "1896  Supermarket Type3    5523.4768  \n",
              "7166      Grocery Store     162.4552  \n",
              "7738  Supermarket Type2    2599.2832  "
            ]
          },
          "execution_count": 11,
          "metadata": {},
          "output_type": "execute_result"
        }
      ],
      "source": [
        "train_sorted.tail(10)"
      ]
    },
    {
      "cell_type": "code",
      "execution_count": 12,
      "metadata": {
        "colab": {
          "base_uri": "https://localhost:8080/",
          "height": 363
        },
        "id": "havg-sToq2M9",
        "outputId": "2cea7bd8-1a2a-4076-c009-19162b04352f"
      },
      "outputs": [
        {
          "data": {
            "text/html": [
              "<div>\n",
              "<style scoped>\n",
              "    .dataframe tbody tr th:only-of-type {\n",
              "        vertical-align: middle;\n",
              "    }\n",
              "\n",
              "    .dataframe tbody tr th {\n",
              "        vertical-align: top;\n",
              "    }\n",
              "\n",
              "    .dataframe thead th {\n",
              "        text-align: right;\n",
              "    }\n",
              "</style>\n",
              "<table border=\"1\" class=\"dataframe\">\n",
              "  <thead>\n",
              "    <tr style=\"text-align: right;\">\n",
              "      <th></th>\n",
              "      <th>ProductID</th>\n",
              "      <th>Weight</th>\n",
              "      <th>FatContent</th>\n",
              "      <th>ProductVisibility</th>\n",
              "      <th>ProductType</th>\n",
              "      <th>MRP</th>\n",
              "      <th>OutletID</th>\n",
              "      <th>EstablishmentYear</th>\n",
              "      <th>OutletSize</th>\n",
              "      <th>LocationType</th>\n",
              "      <th>OutletType</th>\n",
              "    </tr>\n",
              "  </thead>\n",
              "  <tbody>\n",
              "    <tr>\n",
              "      <th>5081</th>\n",
              "      <td>DRA12</td>\n",
              "      <td>11.60</td>\n",
              "      <td>LF</td>\n",
              "      <td>0.041010</td>\n",
              "      <td>Soft Drinks</td>\n",
              "      <td>141.0154</td>\n",
              "      <td>OUT049</td>\n",
              "      <td>1999</td>\n",
              "      <td>Medium</td>\n",
              "      <td>Tier 1</td>\n",
              "      <td>Supermarket Type1</td>\n",
              "    </tr>\n",
              "    <tr>\n",
              "      <th>500</th>\n",
              "      <td>DRA12</td>\n",
              "      <td>11.60</td>\n",
              "      <td>Low Fat</td>\n",
              "      <td>0.040946</td>\n",
              "      <td>Soft Drinks</td>\n",
              "      <td>142.9154</td>\n",
              "      <td>OUT046</td>\n",
              "      <td>1997</td>\n",
              "      <td>Small</td>\n",
              "      <td>Tier 1</td>\n",
              "      <td>Supermarket Type1</td>\n",
              "    </tr>\n",
              "    <tr>\n",
              "      <th>3912</th>\n",
              "      <td>DRA12</td>\n",
              "      <td>NaN</td>\n",
              "      <td>Low Fat</td>\n",
              "      <td>0.040748</td>\n",
              "      <td>Soft Drinks</td>\n",
              "      <td>140.0154</td>\n",
              "      <td>OUT027</td>\n",
              "      <td>1985</td>\n",
              "      <td>Medium</td>\n",
              "      <td>Tier 3</td>\n",
              "      <td>Supermarket Type3</td>\n",
              "    </tr>\n",
              "    <tr>\n",
              "      <th>2847</th>\n",
              "      <td>DRA24</td>\n",
              "      <td>19.35</td>\n",
              "      <td>Regular</td>\n",
              "      <td>0.040091</td>\n",
              "      <td>Soft Drinks</td>\n",
              "      <td>163.6868</td>\n",
              "      <td>OUT018</td>\n",
              "      <td>2009</td>\n",
              "      <td>Medium</td>\n",
              "      <td>Tier 3</td>\n",
              "      <td>Supermarket Type2</td>\n",
              "    </tr>\n",
              "    <tr>\n",
              "      <th>4538</th>\n",
              "      <td>DRA24</td>\n",
              "      <td>19.35</td>\n",
              "      <td>Regular</td>\n",
              "      <td>0.039928</td>\n",
              "      <td>Soft Drinks</td>\n",
              "      <td>164.5868</td>\n",
              "      <td>OUT046</td>\n",
              "      <td>1997</td>\n",
              "      <td>Small</td>\n",
              "      <td>Tier 1</td>\n",
              "      <td>Supermarket Type1</td>\n",
              "    </tr>\n",
              "    <tr>\n",
              "      <th>1211</th>\n",
              "      <td>DRA24</td>\n",
              "      <td>19.35</td>\n",
              "      <td>Regular</td>\n",
              "      <td>0.040009</td>\n",
              "      <td>Soft Drinks</td>\n",
              "      <td>163.2868</td>\n",
              "      <td>OUT045</td>\n",
              "      <td>2002</td>\n",
              "      <td>NaN</td>\n",
              "      <td>Tier 2</td>\n",
              "      <td>Supermarket Type1</td>\n",
              "    </tr>\n",
              "    <tr>\n",
              "      <th>3666</th>\n",
              "      <td>DRA59</td>\n",
              "      <td>8.27</td>\n",
              "      <td>Regular</td>\n",
              "      <td>0.128187</td>\n",
              "      <td>Soft Drinks</td>\n",
              "      <td>184.3924</td>\n",
              "      <td>OUT045</td>\n",
              "      <td>2002</td>\n",
              "      <td>NaN</td>\n",
              "      <td>Tier 2</td>\n",
              "      <td>Supermarket Type1</td>\n",
              "    </tr>\n",
              "    <tr>\n",
              "      <th>4334</th>\n",
              "      <td>DRA59</td>\n",
              "      <td>8.27</td>\n",
              "      <td>reg</td>\n",
              "      <td>0.127904</td>\n",
              "      <td>Soft Drinks</td>\n",
              "      <td>183.9924</td>\n",
              "      <td>OUT035</td>\n",
              "      <td>2004</td>\n",
              "      <td>Small</td>\n",
              "      <td>Tier 2</td>\n",
              "      <td>Supermarket Type1</td>\n",
              "    </tr>\n",
              "    <tr>\n",
              "      <th>104</th>\n",
              "      <td>DRB01</td>\n",
              "      <td>NaN</td>\n",
              "      <td>low fat</td>\n",
              "      <td>0.143991</td>\n",
              "      <td>Soft Drinks</td>\n",
              "      <td>191.5530</td>\n",
              "      <td>OUT019</td>\n",
              "      <td>1985</td>\n",
              "      <td>Small</td>\n",
              "      <td>Tier 1</td>\n",
              "      <td>Grocery Store</td>\n",
              "    </tr>\n",
              "    <tr>\n",
              "      <th>5063</th>\n",
              "      <td>DRB01</td>\n",
              "      <td>7.39</td>\n",
              "      <td>Low Fat</td>\n",
              "      <td>0.000000</td>\n",
              "      <td>Soft Drinks</td>\n",
              "      <td>191.7530</td>\n",
              "      <td>OUT035</td>\n",
              "      <td>2004</td>\n",
              "      <td>Small</td>\n",
              "      <td>Tier 2</td>\n",
              "      <td>Supermarket Type1</td>\n",
              "    </tr>\n",
              "  </tbody>\n",
              "</table>\n",
              "</div>"
            ],
            "text/plain": [
              "     ProductID  Weight FatContent  ProductVisibility  ProductType       MRP  \\\n",
              "5081     DRA12   11.60         LF           0.041010  Soft Drinks  141.0154   \n",
              "500      DRA12   11.60    Low Fat           0.040946  Soft Drinks  142.9154   \n",
              "3912     DRA12     NaN    Low Fat           0.040748  Soft Drinks  140.0154   \n",
              "2847     DRA24   19.35    Regular           0.040091  Soft Drinks  163.6868   \n",
              "4538     DRA24   19.35    Regular           0.039928  Soft Drinks  164.5868   \n",
              "1211     DRA24   19.35    Regular           0.040009  Soft Drinks  163.2868   \n",
              "3666     DRA59    8.27    Regular           0.128187  Soft Drinks  184.3924   \n",
              "4334     DRA59    8.27        reg           0.127904  Soft Drinks  183.9924   \n",
              "104      DRB01     NaN    low fat           0.143991  Soft Drinks  191.5530   \n",
              "5063     DRB01    7.39    Low Fat           0.000000  Soft Drinks  191.7530   \n",
              "\n",
              "     OutletID  EstablishmentYear OutletSize LocationType         OutletType  \n",
              "5081   OUT049               1999     Medium       Tier 1  Supermarket Type1  \n",
              "500    OUT046               1997      Small       Tier 1  Supermarket Type1  \n",
              "3912   OUT027               1985     Medium       Tier 3  Supermarket Type3  \n",
              "2847   OUT018               2009     Medium       Tier 3  Supermarket Type2  \n",
              "4538   OUT046               1997      Small       Tier 1  Supermarket Type1  \n",
              "1211   OUT045               2002        NaN       Tier 2  Supermarket Type1  \n",
              "3666   OUT045               2002        NaN       Tier 2  Supermarket Type1  \n",
              "4334   OUT035               2004      Small       Tier 2  Supermarket Type1  \n",
              "104    OUT019               1985      Small       Tier 1      Grocery Store  \n",
              "5063   OUT035               2004      Small       Tier 2  Supermarket Type1  "
            ]
          },
          "execution_count": 12,
          "metadata": {},
          "output_type": "execute_result"
        }
      ],
      "source": [
        "test_sorted = test.sort_values(by=['ProductID'])\n",
        "test_sorted.head(10)"
      ]
    },
    {
      "cell_type": "code",
      "execution_count": 13,
      "metadata": {
        "colab": {
          "base_uri": "https://localhost:8080/",
          "height": 363
        },
        "id": "pwbF6Qiaq4Hk",
        "outputId": "7b70559d-f702-4373-901a-786bc6e4a098"
      },
      "outputs": [
        {
          "data": {
            "text/html": [
              "<div>\n",
              "<style scoped>\n",
              "    .dataframe tbody tr th:only-of-type {\n",
              "        vertical-align: middle;\n",
              "    }\n",
              "\n",
              "    .dataframe tbody tr th {\n",
              "        vertical-align: top;\n",
              "    }\n",
              "\n",
              "    .dataframe thead th {\n",
              "        text-align: right;\n",
              "    }\n",
              "</style>\n",
              "<table border=\"1\" class=\"dataframe\">\n",
              "  <thead>\n",
              "    <tr style=\"text-align: right;\">\n",
              "      <th></th>\n",
              "      <th>ProductID</th>\n",
              "      <th>Weight</th>\n",
              "      <th>FatContent</th>\n",
              "      <th>ProductVisibility</th>\n",
              "      <th>ProductType</th>\n",
              "      <th>MRP</th>\n",
              "      <th>OutletID</th>\n",
              "      <th>EstablishmentYear</th>\n",
              "      <th>OutletSize</th>\n",
              "      <th>LocationType</th>\n",
              "      <th>OutletType</th>\n",
              "    </tr>\n",
              "  </thead>\n",
              "  <tbody>\n",
              "    <tr>\n",
              "      <th>2534</th>\n",
              "      <td>NCZ42</td>\n",
              "      <td>NaN</td>\n",
              "      <td>Low Fat</td>\n",
              "      <td>0.019764</td>\n",
              "      <td>Household</td>\n",
              "      <td>236.3248</td>\n",
              "      <td>OUT019</td>\n",
              "      <td>1985</td>\n",
              "      <td>Small</td>\n",
              "      <td>Tier 1</td>\n",
              "      <td>Grocery Store</td>\n",
              "    </tr>\n",
              "    <tr>\n",
              "      <th>4825</th>\n",
              "      <td>NCZ42</td>\n",
              "      <td>10.50</td>\n",
              "      <td>Low Fat</td>\n",
              "      <td>0.011334</td>\n",
              "      <td>Household</td>\n",
              "      <td>236.8248</td>\n",
              "      <td>OUT018</td>\n",
              "      <td>2009</td>\n",
              "      <td>Medium</td>\n",
              "      <td>Tier 3</td>\n",
              "      <td>Supermarket Type2</td>\n",
              "    </tr>\n",
              "    <tr>\n",
              "      <th>1119</th>\n",
              "      <td>NCZ42</td>\n",
              "      <td>10.50</td>\n",
              "      <td>LF</td>\n",
              "      <td>0.011311</td>\n",
              "      <td>Household</td>\n",
              "      <td>238.7248</td>\n",
              "      <td>OUT045</td>\n",
              "      <td>2002</td>\n",
              "      <td>NaN</td>\n",
              "      <td>Tier 2</td>\n",
              "      <td>Supermarket Type1</td>\n",
              "    </tr>\n",
              "    <tr>\n",
              "      <th>1241</th>\n",
              "      <td>NCZ53</td>\n",
              "      <td>9.60</td>\n",
              "      <td>Low Fat</td>\n",
              "      <td>0.024473</td>\n",
              "      <td>Health and Hygiene</td>\n",
              "      <td>187.2214</td>\n",
              "      <td>OUT035</td>\n",
              "      <td>2004</td>\n",
              "      <td>Small</td>\n",
              "      <td>Tier 2</td>\n",
              "      <td>Supermarket Type1</td>\n",
              "    </tr>\n",
              "    <tr>\n",
              "      <th>2875</th>\n",
              "      <td>NCZ53</td>\n",
              "      <td>9.60</td>\n",
              "      <td>Low Fat</td>\n",
              "      <td>0.024527</td>\n",
              "      <td>Health and Hygiene</td>\n",
              "      <td>188.5214</td>\n",
              "      <td>OUT045</td>\n",
              "      <td>2002</td>\n",
              "      <td>NaN</td>\n",
              "      <td>Tier 2</td>\n",
              "      <td>Supermarket Type1</td>\n",
              "    </tr>\n",
              "    <tr>\n",
              "      <th>2318</th>\n",
              "      <td>NCZ53</td>\n",
              "      <td>9.60</td>\n",
              "      <td>Low Fat</td>\n",
              "      <td>0.024616</td>\n",
              "      <td>Health and Hygiene</td>\n",
              "      <td>190.0214</td>\n",
              "      <td>OUT017</td>\n",
              "      <td>2007</td>\n",
              "      <td>NaN</td>\n",
              "      <td>Tier 2</td>\n",
              "      <td>Supermarket Type1</td>\n",
              "    </tr>\n",
              "    <tr>\n",
              "      <th>1730</th>\n",
              "      <td>NCZ53</td>\n",
              "      <td>9.60</td>\n",
              "      <td>Low Fat</td>\n",
              "      <td>0.024477</td>\n",
              "      <td>Health and Hygiene</td>\n",
              "      <td>189.6214</td>\n",
              "      <td>OUT046</td>\n",
              "      <td>1997</td>\n",
              "      <td>Small</td>\n",
              "      <td>Tier 1</td>\n",
              "      <td>Supermarket Type1</td>\n",
              "    </tr>\n",
              "    <tr>\n",
              "      <th>2907</th>\n",
              "      <td>NCZ54</td>\n",
              "      <td>14.65</td>\n",
              "      <td>Low Fat</td>\n",
              "      <td>0.083344</td>\n",
              "      <td>Household</td>\n",
              "      <td>163.6552</td>\n",
              "      <td>OUT035</td>\n",
              "      <td>2004</td>\n",
              "      <td>Small</td>\n",
              "      <td>Tier 2</td>\n",
              "      <td>Supermarket Type1</td>\n",
              "    </tr>\n",
              "    <tr>\n",
              "      <th>4307</th>\n",
              "      <td>NCZ54</td>\n",
              "      <td>14.65</td>\n",
              "      <td>Low Fat</td>\n",
              "      <td>0.083290</td>\n",
              "      <td>Household</td>\n",
              "      <td>160.4552</td>\n",
              "      <td>OUT013</td>\n",
              "      <td>1987</td>\n",
              "      <td>High</td>\n",
              "      <td>Tier 3</td>\n",
              "      <td>Supermarket Type1</td>\n",
              "    </tr>\n",
              "    <tr>\n",
              "      <th>4700</th>\n",
              "      <td>NCZ54</td>\n",
              "      <td>14.65</td>\n",
              "      <td>Low Fat</td>\n",
              "      <td>0.083831</td>\n",
              "      <td>Household</td>\n",
              "      <td>161.4552</td>\n",
              "      <td>OUT017</td>\n",
              "      <td>2007</td>\n",
              "      <td>NaN</td>\n",
              "      <td>Tier 2</td>\n",
              "      <td>Supermarket Type1</td>\n",
              "    </tr>\n",
              "  </tbody>\n",
              "</table>\n",
              "</div>"
            ],
            "text/plain": [
              "     ProductID  Weight FatContent  ProductVisibility         ProductType  \\\n",
              "2534     NCZ42     NaN    Low Fat           0.019764           Household   \n",
              "4825     NCZ42   10.50    Low Fat           0.011334           Household   \n",
              "1119     NCZ42   10.50         LF           0.011311           Household   \n",
              "1241     NCZ53    9.60    Low Fat           0.024473  Health and Hygiene   \n",
              "2875     NCZ53    9.60    Low Fat           0.024527  Health and Hygiene   \n",
              "2318     NCZ53    9.60    Low Fat           0.024616  Health and Hygiene   \n",
              "1730     NCZ53    9.60    Low Fat           0.024477  Health and Hygiene   \n",
              "2907     NCZ54   14.65    Low Fat           0.083344           Household   \n",
              "4307     NCZ54   14.65    Low Fat           0.083290           Household   \n",
              "4700     NCZ54   14.65    Low Fat           0.083831           Household   \n",
              "\n",
              "           MRP OutletID  EstablishmentYear OutletSize LocationType  \\\n",
              "2534  236.3248   OUT019               1985      Small       Tier 1   \n",
              "4825  236.8248   OUT018               2009     Medium       Tier 3   \n",
              "1119  238.7248   OUT045               2002        NaN       Tier 2   \n",
              "1241  187.2214   OUT035               2004      Small       Tier 2   \n",
              "2875  188.5214   OUT045               2002        NaN       Tier 2   \n",
              "2318  190.0214   OUT017               2007        NaN       Tier 2   \n",
              "1730  189.6214   OUT046               1997      Small       Tier 1   \n",
              "2907  163.6552   OUT035               2004      Small       Tier 2   \n",
              "4307  160.4552   OUT013               1987       High       Tier 3   \n",
              "4700  161.4552   OUT017               2007        NaN       Tier 2   \n",
              "\n",
              "             OutletType  \n",
              "2534      Grocery Store  \n",
              "4825  Supermarket Type2  \n",
              "1119  Supermarket Type1  \n",
              "1241  Supermarket Type1  \n",
              "2875  Supermarket Type1  \n",
              "2318  Supermarket Type1  \n",
              "1730  Supermarket Type1  \n",
              "2907  Supermarket Type1  \n",
              "4307  Supermarket Type1  \n",
              "4700  Supermarket Type1  "
            ]
          },
          "execution_count": 13,
          "metadata": {},
          "output_type": "execute_result"
        }
      ],
      "source": [
        "test_sorted.tail(10)"
      ]
    },
    {
      "cell_type": "code",
      "execution_count": 14,
      "metadata": {
        "colab": {
          "base_uri": "https://localhost:8080/"
        },
        "id": "e-TWlhNGq5yc",
        "outputId": "bdf0f933-a084-4b72-a009-e9a1582f73bf"
      },
      "outputs": [],
      "source": [
        "#Filling the missing weight values\n",
        "train['Weight'] = train.groupby('ProductID')['Weight'].apply(lambda x: x.fillna(x.mean()))\n",
        "test['Weight'] = test.groupby('ProductID')['Weight'].apply(lambda x: x.fillna(x.mean()))"
      ]
    },
    {
      "cell_type": "code",
      "execution_count": 15,
      "metadata": {
        "colab": {
          "base_uri": "https://localhost:8080/"
        },
        "id": "ytgCmFHdq8N8",
        "outputId": "68b07d84-a035-48e0-f92c-1a4ddbcd7b94"
      },
      "outputs": [
        {
          "data": {
            "text/plain": [
              "ProductID               0\n",
              "Weight                  4\n",
              "FatContent              0\n",
              "ProductVisibility       0\n",
              "ProductType             0\n",
              "MRP                     0\n",
              "OutletID                0\n",
              "EstablishmentYear       0\n",
              "OutletSize           2410\n",
              "LocationType            0\n",
              "OutletType              0\n",
              "OutletSales             0\n",
              "dtype: int64"
            ]
          },
          "execution_count": 15,
          "metadata": {},
          "output_type": "execute_result"
        }
      ],
      "source": [
        "train.isnull().sum()"
      ]
    },
    {
      "cell_type": "code",
      "execution_count": 16,
      "metadata": {
        "colab": {
          "base_uri": "https://localhost:8080/"
        },
        "id": "5ees3rx7q_CM",
        "outputId": "f14c6033-3ef3-4648-f5e6-313dcce966a0"
      },
      "outputs": [
        {
          "data": {
            "text/plain": [
              "ProductID               0\n",
              "Weight                 20\n",
              "FatContent              0\n",
              "ProductVisibility       0\n",
              "ProductType             0\n",
              "MRP                     0\n",
              "OutletID                0\n",
              "EstablishmentYear       0\n",
              "OutletSize           1606\n",
              "LocationType            0\n",
              "OutletType              0\n",
              "dtype: int64"
            ]
          },
          "execution_count": 16,
          "metadata": {},
          "output_type": "execute_result"
        }
      ],
      "source": [
        "test.isnull().sum()"
      ]
    },
    {
      "cell_type": "code",
      "execution_count": 17,
      "metadata": {
        "colab": {
          "base_uri": "https://localhost:8080/"
        },
        "id": "XsdtMTpKrC1E",
        "outputId": "cdf3929f-37d5-47a3-8362-02f5757dac57"
      },
      "outputs": [
        {
          "data": {
            "text/plain": [
              "OutletID\n",
              "OUT010       [nan]\n",
              "OUT013      [High]\n",
              "OUT017       [nan]\n",
              "OUT018    [Medium]\n",
              "OUT019     [Small]\n",
              "OUT027    [Medium]\n",
              "OUT035     [Small]\n",
              "OUT045       [nan]\n",
              "OUT046     [Small]\n",
              "OUT049    [Medium]\n",
              "Name: OutletSize, dtype: object"
            ]
          },
          "execution_count": 17,
          "metadata": {},
          "output_type": "execute_result"
        }
      ],
      "source": [
        "outlet_unique_sizes_train = train.groupby('OutletID')['OutletSize'].unique()\n",
        "outlet_unique_sizes_train"
      ]
    },
    {
      "cell_type": "code",
      "execution_count": 18,
      "metadata": {
        "colab": {
          "base_uri": "https://localhost:8080/"
        },
        "id": "4GBl2a03rDoc",
        "outputId": "78ceb86c-84dd-4b6b-c0ea-309bababccca"
      },
      "outputs": [
        {
          "data": {
            "text/plain": [
              "OutletID\n",
              "OUT010       [nan]\n",
              "OUT013      [High]\n",
              "OUT017       [nan]\n",
              "OUT018    [Medium]\n",
              "OUT019     [Small]\n",
              "OUT027    [Medium]\n",
              "OUT035     [Small]\n",
              "OUT045       [nan]\n",
              "OUT046     [Small]\n",
              "OUT049    [Medium]\n",
              "Name: OutletSize, dtype: object"
            ]
          },
          "execution_count": 18,
          "metadata": {},
          "output_type": "execute_result"
        }
      ],
      "source": [
        "outlet_unique_sizes_test = test.groupby('OutletID')['OutletSize'].unique()\n",
        "outlet_unique_sizes_test"
      ]
    },
    {
      "cell_type": "code",
      "execution_count": 19,
      "metadata": {
        "colab": {
          "base_uri": "https://localhost:8080/"
        },
        "id": "7zJMIdpxrFrD",
        "outputId": "d5f98a8d-2810-4f98-8b46-23e7074eb613"
      },
      "outputs": [
        {
          "data": {
            "text/plain": [
              "OutletID\n",
              "OUT010        [Grocery Store]\n",
              "OUT013    [Supermarket Type1]\n",
              "OUT017    [Supermarket Type1]\n",
              "OUT018    [Supermarket Type2]\n",
              "OUT019        [Grocery Store]\n",
              "OUT027    [Supermarket Type3]\n",
              "OUT035    [Supermarket Type1]\n",
              "OUT045    [Supermarket Type1]\n",
              "OUT046    [Supermarket Type1]\n",
              "OUT049    [Supermarket Type1]\n",
              "Name: OutletType, dtype: object"
            ]
          },
          "execution_count": 19,
          "metadata": {},
          "output_type": "execute_result"
        }
      ],
      "source": [
        "outlettype_unique_sizes_train = train.groupby('OutletID')['OutletType'].unique()\n",
        "outlettype_unique_sizes_train"
      ]
    },
    {
      "cell_type": "code",
      "execution_count": 20,
      "metadata": {
        "colab": {
          "base_uri": "https://localhost:8080/"
        },
        "id": "HZxZodVJrH3Y",
        "outputId": "19023168-58e0-447c-a9d0-454b7ff9f4ff"
      },
      "outputs": [
        {
          "data": {
            "text/plain": [
              "OutletID\n",
              "OUT010        [Grocery Store]\n",
              "OUT013    [Supermarket Type1]\n",
              "OUT017    [Supermarket Type1]\n",
              "OUT018    [Supermarket Type2]\n",
              "OUT019        [Grocery Store]\n",
              "OUT027    [Supermarket Type3]\n",
              "OUT035    [Supermarket Type1]\n",
              "OUT045    [Supermarket Type1]\n",
              "OUT046    [Supermarket Type1]\n",
              "OUT049    [Supermarket Type1]\n",
              "Name: OutletType, dtype: object"
            ]
          },
          "execution_count": 20,
          "metadata": {},
          "output_type": "execute_result"
        }
      ],
      "source": [
        "outlettype_unique_sizes_test = test.groupby('OutletID')['OutletType'].unique()\n",
        "outlettype_unique_sizes_test"
      ]
    },
    {
      "cell_type": "code",
      "execution_count": 21,
      "metadata": {
        "colab": {
          "base_uri": "https://localhost:8080/"
        },
        "id": "652wHrmqrPIJ",
        "outputId": "62008009-4309-4647-b25d-efe6394c4689"
      },
      "outputs": [
        {
          "data": {
            "text/plain": [
              "OutletType\n",
              "Grocery Store                      [nan, Small]\n",
              "Supermarket Type1    [Medium, High, nan, Small]\n",
              "Supermarket Type2                      [Medium]\n",
              "Supermarket Type3                      [Medium]\n",
              "Name: OutletSize, dtype: object"
            ]
          },
          "execution_count": 21,
          "metadata": {},
          "output_type": "execute_result"
        }
      ],
      "source": [
        "outletsize_unique_sizes_train = train.groupby('OutletType')['OutletSize'].unique()\n",
        "outletsize_unique_sizes_train"
      ]
    },
    {
      "cell_type": "code",
      "execution_count": 22,
      "metadata": {
        "colab": {
          "base_uri": "https://localhost:8080/"
        },
        "id": "ZDLJMnzjrQ5u",
        "outputId": "5a179571-b121-482f-bc7c-198529b0365b"
      },
      "outputs": [
        {
          "data": {
            "text/plain": [
              "OutletType\n",
              "Grocery Store                      [nan, Small]\n",
              "Supermarket Type1    [Medium, nan, Small, High]\n",
              "Supermarket Type2                      [Medium]\n",
              "Supermarket Type3                      [Medium]\n",
              "Name: OutletSize, dtype: object"
            ]
          },
          "execution_count": 22,
          "metadata": {},
          "output_type": "execute_result"
        }
      ],
      "source": [
        "outletsize_unique_sizes_test = test.groupby('OutletType')['OutletSize'].unique()\n",
        "outletsize_unique_sizes_test"
      ]
    },
    {
      "cell_type": "code",
      "execution_count": 23,
      "metadata": {
        "id": "3h3ifb0KrRaF"
      },
      "outputs": [],
      "source": [
        "# To fill the missing values in 'OutetSize' having'OutletType' --- 'Grocery Store', we can fill with 'Small' as it's has only one value 'Small'\n",
        "train.loc[(train['OutletType'] == 'Grocery Store') & (train['OutletSize'].isna()), 'OutletSize'] = 'Small'\n",
        "test.loc[(test['OutletType'] == 'Grocery Store') & (test['OutletSize'].isna()), 'OutletSize'] = 'Small'"
      ]
    },
    {
      "cell_type": "code",
      "execution_count": 24,
      "metadata": {
        "id": "HrUQg9barTc9"
      },
      "outputs": [],
      "source": [
        "# To fill the missing values in 'OutetSize' having 'OutletType' --- 'Supermarket Type1', we can fill with mode value\n",
        "# With mode for OutletSize\n",
        "train['OutletSize'].fillna(train['OutletSize'].mode()[0], inplace=True)\n",
        "test['OutletSize'].fillna(test['OutletSize'].mode()[0], inplace=True)"
      ]
    },
    {
      "cell_type": "code",
      "execution_count": 25,
      "metadata": {
        "colab": {
          "base_uri": "https://localhost:8080/"
        },
        "id": "Gfn840F3rVnl",
        "outputId": "558aa0a2-a3c5-4561-aec2-dfbb4f417fe2"
      },
      "outputs": [
        {
          "data": {
            "text/plain": [
              "ProductID            0\n",
              "Weight               4\n",
              "FatContent           0\n",
              "ProductVisibility    0\n",
              "ProductType          0\n",
              "MRP                  0\n",
              "OutletID             0\n",
              "EstablishmentYear    0\n",
              "OutletSize           0\n",
              "LocationType         0\n",
              "OutletType           0\n",
              "OutletSales          0\n",
              "dtype: int64"
            ]
          },
          "execution_count": 25,
          "metadata": {},
          "output_type": "execute_result"
        }
      ],
      "source": [
        "train.isnull().sum()"
      ]
    },
    {
      "cell_type": "code",
      "execution_count": 26,
      "metadata": {
        "colab": {
          "base_uri": "https://localhost:8080/"
        },
        "id": "zU8gACS7rXO9",
        "outputId": "7cfa0a23-c20c-4625-e8e6-ba383b3f9b79"
      },
      "outputs": [
        {
          "data": {
            "text/plain": [
              "ProductID             0\n",
              "Weight               20\n",
              "FatContent            0\n",
              "ProductVisibility     0\n",
              "ProductType           0\n",
              "MRP                   0\n",
              "OutletID              0\n",
              "EstablishmentYear     0\n",
              "OutletSize            0\n",
              "LocationType          0\n",
              "OutletType            0\n",
              "dtype: int64"
            ]
          },
          "execution_count": 26,
          "metadata": {},
          "output_type": "execute_result"
        }
      ],
      "source": [
        "test.isnull().sum()"
      ]
    },
    {
      "cell_type": "code",
      "execution_count": 27,
      "metadata": {
        "id": "dpg0Vd05rY61"
      },
      "outputs": [],
      "source": [
        "# With mean for Weight\n",
        "train['Weight'].fillna(train['Weight'].mean(), inplace=True)\n",
        "test['Weight'].fillna(test['Weight'].mean(), inplace=True)"
      ]
    },
    {
      "cell_type": "code",
      "execution_count": 28,
      "metadata": {
        "colab": {
          "base_uri": "https://localhost:8080/"
        },
        "id": "foY6k_1-ra_9",
        "outputId": "74a227ed-a074-4385-9c64-07b84b8f0d63"
      },
      "outputs": [
        {
          "data": {
            "text/plain": [
              "ProductID            0\n",
              "Weight               0\n",
              "FatContent           0\n",
              "ProductVisibility    0\n",
              "ProductType          0\n",
              "MRP                  0\n",
              "OutletID             0\n",
              "EstablishmentYear    0\n",
              "OutletSize           0\n",
              "LocationType         0\n",
              "OutletType           0\n",
              "dtype: int64"
            ]
          },
          "execution_count": 28,
          "metadata": {},
          "output_type": "execute_result"
        }
      ],
      "source": [
        "test.isnull().sum()"
      ]
    },
    {
      "cell_type": "code",
      "execution_count": 29,
      "metadata": {
        "colab": {
          "base_uri": "https://localhost:8080/"
        },
        "id": "Zzw5Vsp-rczF",
        "outputId": "2856d61e-e07b-4414-cab1-3604b458e9c0"
      },
      "outputs": [
        {
          "data": {
            "text/plain": [
              "ProductID            0\n",
              "Weight               0\n",
              "FatContent           0\n",
              "ProductVisibility    0\n",
              "ProductType          0\n",
              "MRP                  0\n",
              "OutletID             0\n",
              "EstablishmentYear    0\n",
              "OutletSize           0\n",
              "LocationType         0\n",
              "OutletType           0\n",
              "OutletSales          0\n",
              "dtype: int64"
            ]
          },
          "execution_count": 29,
          "metadata": {},
          "output_type": "execute_result"
        }
      ],
      "source": [
        "\n",
        "train.isnull().sum()"
      ]
    },
    {
      "cell_type": "code",
      "execution_count": 30,
      "metadata": {
        "colab": {
          "base_uri": "https://localhost:8080/"
        },
        "id": "aSr4lRdjrfBE",
        "outputId": "c57184ac-199a-4d98-cbec-1ee0b1e3d707"
      },
      "outputs": [
        {
          "name": "stdout",
          "output_type": "stream",
          "text": [
            "Number of potential outliers: 185\n",
            "Indices of potential outliers: Int64Index([  49,   83,  108,  130,  145,  174,  276,  304,  333,  373,\n",
            "            ...\n",
            "            7949, 8039, 8194, 8201, 8215, 8245, 8273, 8345, 8432, 8447],\n",
            "           dtype='int64', length=185)\n"
          ]
        }
      ],
      "source": [
        "# Finding the outliers in the train dataset\n",
        "\n",
        "# Calculate the z-score for each column\n",
        "z_scores = np.abs((train - train.mean()) / train.std())\n",
        "\n",
        "# Identify potential outliers\n",
        "outliers = (z_scores > 3).any(axis=1)\n",
        "\n",
        "# Print the number of potential outliers\n",
        "print(\"Number of potential outliers:\", outliers.sum())\n",
        "\n",
        "# Print the indices of potential outliers\n",
        "print(\"Indices of potential outliers:\", train[outliers].index)"
      ]
    },
    {
      "cell_type": "code",
      "execution_count": 31,
      "metadata": {
        "colab": {
          "base_uri": "https://localhost:8080/"
        },
        "id": "oo6zSUc5rh4M",
        "outputId": "ffaec9ef-0d4c-4aa1-87a0-537af5647e71"
      },
      "outputs": [
        {
          "name": "stdout",
          "output_type": "stream",
          "text": [
            "Number of removed outliers: 185\n",
            "Number of remaining observations: 8338\n"
          ]
        }
      ],
      "source": [
        "# Remove outliers as their quantity is very low when compared to whole dataset\n",
        "train1 = train[~outliers]\n",
        "\n",
        "# Print the number of removed outliers\n",
        "print(\"Number of removed outliers:\", outliers.sum())\n",
        "\n",
        "# Print the number of remaining observations\n",
        "print(\"Number of remaining observations:\", len(train1))"
      ]
    },
    {
      "cell_type": "code",
      "execution_count": 32,
      "metadata": {
        "colab": {
          "base_uri": "https://localhost:8080/"
        },
        "id": "w_ZUf7DAr8wd",
        "outputId": "b280c696-a566-4285-88e3-90b529c592f4"
      },
      "outputs": [
        {
          "name": "stdout",
          "output_type": "stream",
          "text": [
            "Number of duplicates: 0\n"
          ]
        }
      ],
      "source": [
        "# Checking duplicate rows\n",
        "print(\"Number of duplicates:\", train.duplicated().sum())"
      ]
    },
    {
      "cell_type": "code",
      "execution_count": 33,
      "metadata": {
        "id": "IC3-IgL8r-ac"
      },
      "outputs": [],
      "source": [
        "# # Generate the report\n",
        "# train_vis = pd.read_csv('Train-Set.csv')\n",
        "# train_report = pandas_profiling.ProfileReport(train_vis)\n",
        "\n",
        "# # Save the report to an HTML file\n",
        "# train_report.to_file('Big_Mart_Sales_report_train.html')\n",
        "\n",
        "# # Display the report in the notebook\n",
        "# display(train_report)"
      ]
    },
    {
      "cell_type": "code",
      "execution_count": 34,
      "metadata": {
        "id": "kkdadtFSsArE"
      },
      "outputs": [],
      "source": [
        "# # Generate the report\n",
        "# test_vis = pd.read_csv('Test-Set.csv')\n",
        "# test_report = pandas_profiling.ProfileReport(test_vis)\n",
        "\n",
        "# # Save the report to an HTML file\n",
        "# test_report.to_file('Big_Mart_Sales_report_test.html')\n",
        "\n",
        "# # Display the report in the notebook\n",
        "# display(test_report)"
      ]
    },
    {
      "cell_type": "code",
      "execution_count": 35,
      "metadata": {
        "colab": {
          "base_uri": "https://localhost:8080/"
        },
        "id": "ugGNuf2EsCSU",
        "outputId": "8afd20c8-03f2-4feb-a8c3-ba0eeec44214"
      },
      "outputs": [
        {
          "data": {
            "text/plain": [
              "array(['Low Fat', 'Regular', 'low fat', 'LF', 'reg'], dtype=object)"
            ]
          },
          "execution_count": 35,
          "metadata": {},
          "output_type": "execute_result"
        }
      ],
      "source": [
        "train['FatContent'].unique()"
      ]
    },
    {
      "cell_type": "code",
      "execution_count": 36,
      "metadata": {
        "colab": {
          "base_uri": "https://localhost:8080/"
        },
        "id": "S36WJEMqsD-0",
        "outputId": "1706a902-6bd6-44c4-9082-b7555224faff"
      },
      "outputs": [
        {
          "data": {
            "text/plain": [
              "array(['Low Fat', 'reg', 'Regular', 'LF', 'low fat'], dtype=object)"
            ]
          },
          "execution_count": 36,
          "metadata": {},
          "output_type": "execute_result"
        }
      ],
      "source": [
        "test['FatContent'].unique()"
      ]
    },
    {
      "cell_type": "code",
      "execution_count": 37,
      "metadata": {
        "id": "1CgnLizpsFo-"
      },
      "outputs": [],
      "source": [
        "train['FatContent'].replace(['low fat','LF','reg'],['Low Fat','Low Fat','Regular'],inplace = True)\n",
        "test['FatContent'].replace(['low fat','LF','reg'],['Low Fat','Low Fat','Regular'],inplace = True)\n",
        "train['FatContent']= train['FatContent'].astype(str)\n",
        "test['FatContent']= test['FatContent'].astype(str)"
      ]
    },
    {
      "cell_type": "code",
      "execution_count": 38,
      "metadata": {
        "colab": {
          "base_uri": "https://localhost:8080/"
        },
        "id": "_7fOZM-bsHtU",
        "outputId": "dec1f2b3-751b-41a7-9b88-2dcf797db725"
      },
      "outputs": [
        {
          "data": {
            "text/plain": [
              "array(['Low Fat', 'Regular'], dtype=object)"
            ]
          },
          "execution_count": 38,
          "metadata": {},
          "output_type": "execute_result"
        }
      ],
      "source": [
        "train['FatContent'].unique()"
      ]
    },
    {
      "cell_type": "code",
      "execution_count": 39,
      "metadata": {
        "colab": {
          "base_uri": "https://localhost:8080/"
        },
        "id": "rGy161-RsJeg",
        "outputId": "ce0b44c0-9b4d-4dbf-d156-976615fc157e"
      },
      "outputs": [
        {
          "data": {
            "text/plain": [
              "array(['Low Fat', 'Regular'], dtype=object)"
            ]
          },
          "execution_count": 39,
          "metadata": {},
          "output_type": "execute_result"
        }
      ],
      "source": [
        "\n",
        "test['FatContent'].unique()"
      ]
    },
    {
      "cell_type": "code",
      "execution_count": 40,
      "metadata": {
        "colab": {
          "base_uri": "https://localhost:8080/"
        },
        "id": "mb-o4eNMV1GS",
        "outputId": "c3dbf7ed-188c-45e2-c53c-b3b5e3282f07"
      },
      "outputs": [
        {
          "data": {
            "text/plain": [
              "array(['Dairy', 'Soft Drinks', 'Meat', 'Fruits and Vegetables',\n",
              "       'Household', 'Baking Goods', 'Snack Foods', 'Frozen Foods',\n",
              "       'Breakfast', 'Health and Hygiene', 'Hard Drinks', 'Canned',\n",
              "       'Breads', 'Starchy Foods', 'Others', 'Seafood'], dtype=object)"
            ]
          },
          "execution_count": 40,
          "metadata": {},
          "output_type": "execute_result"
        }
      ],
      "source": [
        "train['ProductType'].unique()"
      ]
    },
    {
      "cell_type": "code",
      "execution_count": 41,
      "metadata": {
        "id": "ocx2HRKXV9Oy"
      },
      "outputs": [],
      "source": [
        "train1 = pd.DataFrame.copy(train)\n",
        "test1= pd.DataFrame.copy(test)"
      ]
    },
    {
      "cell_type": "code",
      "execution_count": 42,
      "metadata": {
        "id": "LvDvqlbZsLUU"
      },
      "outputs": [],
      "source": [
        "# Initialize the Label Encoder\n",
        "le = LabelEncoder()\n",
        "\n",
        "# Fit and transform the categorical column\n",
        "train['FatContent'] = le.fit_transform(train['FatContent'])\n",
        "train['ProductType'] = le.fit_transform(train['ProductType'])\n",
        "train['OutletSize'] = le.fit_transform(train['OutletSize'])\n",
        "train['LocationType'] = le.fit_transform(train['LocationType'])\n",
        "train['OutletType'] = le.fit_transform(train['OutletType'])\n"
      ]
    },
    {
      "cell_type": "code",
      "execution_count": 43,
      "metadata": {
        "id": "WZ_HJAsksNPs"
      },
      "outputs": [],
      "source": [
        "test['FatContent'] = le.fit_transform(test['FatContent'])\n",
        "test['ProductType'] = le.fit_transform(test['ProductType'])\n",
        "test['OutletSize'] = le.fit_transform(test['OutletSize'])\n",
        "test['LocationType'] = le.fit_transform(test['LocationType'])\n",
        "test['OutletType'] = le.fit_transform(test['OutletType'])"
      ]
    },
    {
      "cell_type": "code",
      "execution_count": 44,
      "metadata": {
        "colab": {
          "base_uri": "https://localhost:8080/"
        },
        "id": "UhJeoIlEWOTY",
        "outputId": "6d3efa14-a4a3-4091-b0c2-2a484881f9e3"
      },
      "outputs": [
        {
          "data": {
            "text/plain": [
              "array([ 4, 14, 10,  6,  9,  0, 13,  5,  2,  8,  7,  3,  1, 15, 11, 12])"
            ]
          },
          "execution_count": 44,
          "metadata": {},
          "output_type": "execute_result"
        }
      ],
      "source": [
        "train['ProductType'].unique()"
      ]
    },
    {
      "cell_type": "code",
      "execution_count": 45,
      "metadata": {
        "colab": {
          "base_uri": "https://localhost:8080/"
        },
        "id": "4KglPq10WRmK",
        "outputId": "ea452e42-639f-4c48-ec15-788d94b9705c"
      },
      "outputs": [
        {
          "data": {
            "text/plain": [
              "array([13,  4, 11,  6,  0,  8,  1,  7, 12, 14,  9,  5, 10,  3, 15,  2])"
            ]
          },
          "execution_count": 45,
          "metadata": {},
          "output_type": "execute_result"
        }
      ],
      "source": [
        "test['ProductType'].unique()"
      ]
    },
    {
      "cell_type": "code",
      "execution_count": 46,
      "metadata": {
        "colab": {
          "base_uri": "https://localhost:8080/",
          "height": 363
        },
        "id": "KBZk0fiNtJzc",
        "outputId": "cd647142-3d04-4174-9fb9-50eb511f9959"
      },
      "outputs": [
        {
          "data": {
            "text/html": [
              "<div>\n",
              "<style scoped>\n",
              "    .dataframe tbody tr th:only-of-type {\n",
              "        vertical-align: middle;\n",
              "    }\n",
              "\n",
              "    .dataframe tbody tr th {\n",
              "        vertical-align: top;\n",
              "    }\n",
              "\n",
              "    .dataframe thead th {\n",
              "        text-align: right;\n",
              "    }\n",
              "</style>\n",
              "<table border=\"1\" class=\"dataframe\">\n",
              "  <thead>\n",
              "    <tr style=\"text-align: right;\">\n",
              "      <th></th>\n",
              "      <th>ProductID</th>\n",
              "      <th>Weight</th>\n",
              "      <th>FatContent</th>\n",
              "      <th>ProductVisibility</th>\n",
              "      <th>ProductType</th>\n",
              "      <th>MRP</th>\n",
              "      <th>OutletID</th>\n",
              "      <th>EstablishmentYear</th>\n",
              "      <th>OutletSize</th>\n",
              "      <th>LocationType</th>\n",
              "      <th>OutletType</th>\n",
              "      <th>OutletSales</th>\n",
              "    </tr>\n",
              "  </thead>\n",
              "  <tbody>\n",
              "    <tr>\n",
              "      <th>0</th>\n",
              "      <td>FDA15</td>\n",
              "      <td>9.300</td>\n",
              "      <td>0</td>\n",
              "      <td>0.016047</td>\n",
              "      <td>4</td>\n",
              "      <td>249.8092</td>\n",
              "      <td>OUT049</td>\n",
              "      <td>1999</td>\n",
              "      <td>1</td>\n",
              "      <td>0</td>\n",
              "      <td>1</td>\n",
              "      <td>3735.1380</td>\n",
              "    </tr>\n",
              "    <tr>\n",
              "      <th>1</th>\n",
              "      <td>DRC01</td>\n",
              "      <td>5.920</td>\n",
              "      <td>1</td>\n",
              "      <td>0.019278</td>\n",
              "      <td>14</td>\n",
              "      <td>48.2692</td>\n",
              "      <td>OUT018</td>\n",
              "      <td>2009</td>\n",
              "      <td>1</td>\n",
              "      <td>2</td>\n",
              "      <td>2</td>\n",
              "      <td>443.4228</td>\n",
              "    </tr>\n",
              "    <tr>\n",
              "      <th>2</th>\n",
              "      <td>FDN15</td>\n",
              "      <td>17.500</td>\n",
              "      <td>0</td>\n",
              "      <td>0.016760</td>\n",
              "      <td>10</td>\n",
              "      <td>141.6180</td>\n",
              "      <td>OUT049</td>\n",
              "      <td>1999</td>\n",
              "      <td>1</td>\n",
              "      <td>0</td>\n",
              "      <td>1</td>\n",
              "      <td>2097.2700</td>\n",
              "    </tr>\n",
              "    <tr>\n",
              "      <th>3</th>\n",
              "      <td>FDX07</td>\n",
              "      <td>19.200</td>\n",
              "      <td>1</td>\n",
              "      <td>0.000000</td>\n",
              "      <td>6</td>\n",
              "      <td>182.0950</td>\n",
              "      <td>OUT010</td>\n",
              "      <td>1998</td>\n",
              "      <td>2</td>\n",
              "      <td>2</td>\n",
              "      <td>0</td>\n",
              "      <td>732.3800</td>\n",
              "    </tr>\n",
              "    <tr>\n",
              "      <th>4</th>\n",
              "      <td>NCD19</td>\n",
              "      <td>8.930</td>\n",
              "      <td>0</td>\n",
              "      <td>0.000000</td>\n",
              "      <td>9</td>\n",
              "      <td>53.8614</td>\n",
              "      <td>OUT013</td>\n",
              "      <td>1987</td>\n",
              "      <td>0</td>\n",
              "      <td>2</td>\n",
              "      <td>1</td>\n",
              "      <td>994.7052</td>\n",
              "    </tr>\n",
              "    <tr>\n",
              "      <th>5</th>\n",
              "      <td>FDP36</td>\n",
              "      <td>10.395</td>\n",
              "      <td>1</td>\n",
              "      <td>0.000000</td>\n",
              "      <td>0</td>\n",
              "      <td>51.4008</td>\n",
              "      <td>OUT018</td>\n",
              "      <td>2009</td>\n",
              "      <td>1</td>\n",
              "      <td>2</td>\n",
              "      <td>2</td>\n",
              "      <td>556.6088</td>\n",
              "    </tr>\n",
              "    <tr>\n",
              "      <th>6</th>\n",
              "      <td>FDO10</td>\n",
              "      <td>13.650</td>\n",
              "      <td>1</td>\n",
              "      <td>0.012741</td>\n",
              "      <td>13</td>\n",
              "      <td>57.6588</td>\n",
              "      <td>OUT013</td>\n",
              "      <td>1987</td>\n",
              "      <td>0</td>\n",
              "      <td>2</td>\n",
              "      <td>1</td>\n",
              "      <td>343.5528</td>\n",
              "    </tr>\n",
              "    <tr>\n",
              "      <th>7</th>\n",
              "      <td>FDP10</td>\n",
              "      <td>19.000</td>\n",
              "      <td>0</td>\n",
              "      <td>0.127470</td>\n",
              "      <td>13</td>\n",
              "      <td>107.7622</td>\n",
              "      <td>OUT027</td>\n",
              "      <td>1985</td>\n",
              "      <td>1</td>\n",
              "      <td>2</td>\n",
              "      <td>3</td>\n",
              "      <td>4022.7636</td>\n",
              "    </tr>\n",
              "    <tr>\n",
              "      <th>8</th>\n",
              "      <td>FDH17</td>\n",
              "      <td>16.200</td>\n",
              "      <td>1</td>\n",
              "      <td>0.016687</td>\n",
              "      <td>5</td>\n",
              "      <td>96.9726</td>\n",
              "      <td>OUT045</td>\n",
              "      <td>2002</td>\n",
              "      <td>2</td>\n",
              "      <td>1</td>\n",
              "      <td>1</td>\n",
              "      <td>1076.5986</td>\n",
              "    </tr>\n",
              "    <tr>\n",
              "      <th>9</th>\n",
              "      <td>FDU28</td>\n",
              "      <td>19.200</td>\n",
              "      <td>1</td>\n",
              "      <td>0.094450</td>\n",
              "      <td>5</td>\n",
              "      <td>187.8214</td>\n",
              "      <td>OUT017</td>\n",
              "      <td>2007</td>\n",
              "      <td>2</td>\n",
              "      <td>1</td>\n",
              "      <td>1</td>\n",
              "      <td>4710.5350</td>\n",
              "    </tr>\n",
              "  </tbody>\n",
              "</table>\n",
              "</div>"
            ],
            "text/plain": [
              "  ProductID  Weight  FatContent  ProductVisibility  ProductType       MRP  \\\n",
              "0     FDA15   9.300           0           0.016047            4  249.8092   \n",
              "1     DRC01   5.920           1           0.019278           14   48.2692   \n",
              "2     FDN15  17.500           0           0.016760           10  141.6180   \n",
              "3     FDX07  19.200           1           0.000000            6  182.0950   \n",
              "4     NCD19   8.930           0           0.000000            9   53.8614   \n",
              "5     FDP36  10.395           1           0.000000            0   51.4008   \n",
              "6     FDO10  13.650           1           0.012741           13   57.6588   \n",
              "7     FDP10  19.000           0           0.127470           13  107.7622   \n",
              "8     FDH17  16.200           1           0.016687            5   96.9726   \n",
              "9     FDU28  19.200           1           0.094450            5  187.8214   \n",
              "\n",
              "  OutletID  EstablishmentYear  OutletSize  LocationType  OutletType  \\\n",
              "0   OUT049               1999           1             0           1   \n",
              "1   OUT018               2009           1             2           2   \n",
              "2   OUT049               1999           1             0           1   \n",
              "3   OUT010               1998           2             2           0   \n",
              "4   OUT013               1987           0             2           1   \n",
              "5   OUT018               2009           1             2           2   \n",
              "6   OUT013               1987           0             2           1   \n",
              "7   OUT027               1985           1             2           3   \n",
              "8   OUT045               2002           2             1           1   \n",
              "9   OUT017               2007           2             1           1   \n",
              "\n",
              "   OutletSales  \n",
              "0    3735.1380  \n",
              "1     443.4228  \n",
              "2    2097.2700  \n",
              "3     732.3800  \n",
              "4     994.7052  \n",
              "5     556.6088  \n",
              "6     343.5528  \n",
              "7    4022.7636  \n",
              "8    1076.5986  \n",
              "9    4710.5350  "
            ]
          },
          "execution_count": 46,
          "metadata": {},
          "output_type": "execute_result"
        }
      ],
      "source": [
        "train.head(10)"
      ]
    },
    {
      "cell_type": "code",
      "execution_count": 47,
      "metadata": {
        "colab": {
          "base_uri": "https://localhost:8080/",
          "height": 363
        },
        "id": "Wse26u1ItLTM",
        "outputId": "a13de362-e8df-4c0d-e2bd-5ad252821b34"
      },
      "outputs": [
        {
          "data": {
            "text/html": [
              "<div>\n",
              "<style scoped>\n",
              "    .dataframe tbody tr th:only-of-type {\n",
              "        vertical-align: middle;\n",
              "    }\n",
              "\n",
              "    .dataframe tbody tr th {\n",
              "        vertical-align: top;\n",
              "    }\n",
              "\n",
              "    .dataframe thead th {\n",
              "        text-align: right;\n",
              "    }\n",
              "</style>\n",
              "<table border=\"1\" class=\"dataframe\">\n",
              "  <thead>\n",
              "    <tr style=\"text-align: right;\">\n",
              "      <th></th>\n",
              "      <th>ProductID</th>\n",
              "      <th>Weight</th>\n",
              "      <th>FatContent</th>\n",
              "      <th>ProductVisibility</th>\n",
              "      <th>ProductType</th>\n",
              "      <th>MRP</th>\n",
              "      <th>OutletID</th>\n",
              "      <th>EstablishmentYear</th>\n",
              "      <th>OutletSize</th>\n",
              "      <th>LocationType</th>\n",
              "      <th>OutletType</th>\n",
              "    </tr>\n",
              "  </thead>\n",
              "  <tbody>\n",
              "    <tr>\n",
              "      <th>0</th>\n",
              "      <td>FDW58</td>\n",
              "      <td>20.750</td>\n",
              "      <td>0</td>\n",
              "      <td>0.007565</td>\n",
              "      <td>13</td>\n",
              "      <td>107.8622</td>\n",
              "      <td>OUT049</td>\n",
              "      <td>1999</td>\n",
              "      <td>1</td>\n",
              "      <td>0</td>\n",
              "      <td>1</td>\n",
              "    </tr>\n",
              "    <tr>\n",
              "      <th>1</th>\n",
              "      <td>FDW14</td>\n",
              "      <td>8.300</td>\n",
              "      <td>1</td>\n",
              "      <td>0.038428</td>\n",
              "      <td>4</td>\n",
              "      <td>87.3198</td>\n",
              "      <td>OUT017</td>\n",
              "      <td>2007</td>\n",
              "      <td>2</td>\n",
              "      <td>1</td>\n",
              "      <td>1</td>\n",
              "    </tr>\n",
              "    <tr>\n",
              "      <th>2</th>\n",
              "      <td>NCN55</td>\n",
              "      <td>14.600</td>\n",
              "      <td>0</td>\n",
              "      <td>0.099575</td>\n",
              "      <td>11</td>\n",
              "      <td>241.7538</td>\n",
              "      <td>OUT010</td>\n",
              "      <td>1998</td>\n",
              "      <td>2</td>\n",
              "      <td>2</td>\n",
              "      <td>0</td>\n",
              "    </tr>\n",
              "    <tr>\n",
              "      <th>3</th>\n",
              "      <td>FDQ58</td>\n",
              "      <td>7.315</td>\n",
              "      <td>0</td>\n",
              "      <td>0.015388</td>\n",
              "      <td>13</td>\n",
              "      <td>155.0340</td>\n",
              "      <td>OUT017</td>\n",
              "      <td>2007</td>\n",
              "      <td>2</td>\n",
              "      <td>1</td>\n",
              "      <td>1</td>\n",
              "    </tr>\n",
              "    <tr>\n",
              "      <th>4</th>\n",
              "      <td>FDY38</td>\n",
              "      <td>13.600</td>\n",
              "      <td>1</td>\n",
              "      <td>0.118599</td>\n",
              "      <td>4</td>\n",
              "      <td>234.2300</td>\n",
              "      <td>OUT027</td>\n",
              "      <td>1985</td>\n",
              "      <td>1</td>\n",
              "      <td>2</td>\n",
              "      <td>3</td>\n",
              "    </tr>\n",
              "    <tr>\n",
              "      <th>5</th>\n",
              "      <td>FDH56</td>\n",
              "      <td>9.800</td>\n",
              "      <td>1</td>\n",
              "      <td>0.063817</td>\n",
              "      <td>6</td>\n",
              "      <td>117.1492</td>\n",
              "      <td>OUT046</td>\n",
              "      <td>1997</td>\n",
              "      <td>2</td>\n",
              "      <td>0</td>\n",
              "      <td>1</td>\n",
              "    </tr>\n",
              "    <tr>\n",
              "      <th>6</th>\n",
              "      <td>FDL48</td>\n",
              "      <td>19.350</td>\n",
              "      <td>1</td>\n",
              "      <td>0.082602</td>\n",
              "      <td>0</td>\n",
              "      <td>50.1034</td>\n",
              "      <td>OUT018</td>\n",
              "      <td>2009</td>\n",
              "      <td>1</td>\n",
              "      <td>2</td>\n",
              "      <td>2</td>\n",
              "    </tr>\n",
              "    <tr>\n",
              "      <th>7</th>\n",
              "      <td>FDC48</td>\n",
              "      <td>9.195</td>\n",
              "      <td>0</td>\n",
              "      <td>0.015782</td>\n",
              "      <td>0</td>\n",
              "      <td>81.0592</td>\n",
              "      <td>OUT027</td>\n",
              "      <td>1985</td>\n",
              "      <td>1</td>\n",
              "      <td>2</td>\n",
              "      <td>3</td>\n",
              "    </tr>\n",
              "    <tr>\n",
              "      <th>8</th>\n",
              "      <td>FDN33</td>\n",
              "      <td>6.305</td>\n",
              "      <td>1</td>\n",
              "      <td>0.123365</td>\n",
              "      <td>13</td>\n",
              "      <td>95.7436</td>\n",
              "      <td>OUT045</td>\n",
              "      <td>2002</td>\n",
              "      <td>2</td>\n",
              "      <td>1</td>\n",
              "      <td>1</td>\n",
              "    </tr>\n",
              "    <tr>\n",
              "      <th>9</th>\n",
              "      <td>FDA36</td>\n",
              "      <td>5.985</td>\n",
              "      <td>0</td>\n",
              "      <td>0.005698</td>\n",
              "      <td>0</td>\n",
              "      <td>186.8924</td>\n",
              "      <td>OUT017</td>\n",
              "      <td>2007</td>\n",
              "      <td>2</td>\n",
              "      <td>1</td>\n",
              "      <td>1</td>\n",
              "    </tr>\n",
              "  </tbody>\n",
              "</table>\n",
              "</div>"
            ],
            "text/plain": [
              "  ProductID  Weight  FatContent  ProductVisibility  ProductType       MRP  \\\n",
              "0     FDW58  20.750           0           0.007565           13  107.8622   \n",
              "1     FDW14   8.300           1           0.038428            4   87.3198   \n",
              "2     NCN55  14.600           0           0.099575           11  241.7538   \n",
              "3     FDQ58   7.315           0           0.015388           13  155.0340   \n",
              "4     FDY38  13.600           1           0.118599            4  234.2300   \n",
              "5     FDH56   9.800           1           0.063817            6  117.1492   \n",
              "6     FDL48  19.350           1           0.082602            0   50.1034   \n",
              "7     FDC48   9.195           0           0.015782            0   81.0592   \n",
              "8     FDN33   6.305           1           0.123365           13   95.7436   \n",
              "9     FDA36   5.985           0           0.005698            0  186.8924   \n",
              "\n",
              "  OutletID  EstablishmentYear  OutletSize  LocationType  OutletType  \n",
              "0   OUT049               1999           1             0           1  \n",
              "1   OUT017               2007           2             1           1  \n",
              "2   OUT010               1998           2             2           0  \n",
              "3   OUT017               2007           2             1           1  \n",
              "4   OUT027               1985           1             2           3  \n",
              "5   OUT046               1997           2             0           1  \n",
              "6   OUT018               2009           1             2           2  \n",
              "7   OUT027               1985           1             2           3  \n",
              "8   OUT045               2002           2             1           1  \n",
              "9   OUT017               2007           2             1           1  "
            ]
          },
          "execution_count": 47,
          "metadata": {},
          "output_type": "execute_result"
        }
      ],
      "source": [
        "test.head(10)"
      ]
    },
    {
      "cell_type": "code",
      "execution_count": 48,
      "metadata": {
        "colab": {
          "base_uri": "https://localhost:8080/",
          "height": 510
        },
        "id": "RV-U7vzWwG3e",
        "outputId": "f70a9997-9891-4f1a-a347-26041ebbfa6e"
      },
      "outputs": [
        {
          "data": {
            "text/plain": [
              "<AxesSubplot:>"
            ]
          },
          "execution_count": 48,
          "metadata": {},
          "output_type": "execute_result"
        },
        {
          "data": {
            "image/png": "[encoded data removed]",
            "text/plain": [
              "<Figure size 640x480 with 2 Axes>"
            ]
          },
          "metadata": {},
          "output_type": "display_data"
        }
      ],
      "source": [
        "import seaborn as sns\n",
        "\n",
        "# Separate target variable from predictor variables\n",
        "X = train.drop(\"OutletSales\", axis=1)\n",
        "y = train[\"OutletSales\"]\n",
        "\n",
        "# Calculate correlation matrix\n",
        "corr_matrix = X.corrwith(y)\n",
        "\n",
        "# Visualize as heatmap\n",
        "sns.heatmap(corr_matrix.to_frame(), cmap=\"coolwarm\", annot=True, vmin=-1, vmax=1)"
      ]
    },
    {
      "cell_type": "code",
      "execution_count": 49,
      "metadata": {
        "colab": {
          "base_uri": "https://localhost:8080/",
          "height": 368
        },
        "id": "AuSkg3h-MkOU",
        "outputId": "ade10503-6d6d-4dd5-d24e-917274490e26"
      },
      "outputs": [
        {
          "data": {
            "image/png": "[encoded data removed]",
            "text/plain": [
              "<Figure size 1000x400 with 1 Axes>"
            ]
          },
          "metadata": {},
          "output_type": "display_data"
        }
      ],
      "source": [
        "# Numeric Attributes are  'Weight', 'ProductVisibility', 'MRP', 'EstablishmentYear'\n",
        "plt.figure(figsize=(10, 4))\n",
        "plt.boxplot(train['ProductVisibility'],vert = False)\n",
        "plt.show()"
      ]
    },
    {
      "cell_type": "code",
      "execution_count": 50,
      "metadata": {
        "colab": {
          "base_uri": "https://localhost:8080/",
          "height": 472
        },
        "id": "x17aeVQIMkRx",
        "outputId": "3617feb4-967c-4e35-be05-fc2ca30bd988"
      },
      "outputs": [
        {
          "data": {
            "image/png": "[encoded data removed]",
            "text/plain": [
              "<Figure size 640x480 with 1 Axes>"
            ]
          },
          "metadata": {},
          "output_type": "display_data"
        }
      ],
      "source": [
        "plt.scatter(train['ProductVisibility'], train['OutletSales'])\n",
        "plt.title('Product Visibility vs Sales')\n",
        "plt.xlabel('Product Visibility')\n",
        "plt.ylabel(' Outlet Sales')\n",
        "plt.show()"
      ]
    },
    {
      "cell_type": "code",
      "execution_count": 51,
      "metadata": {
        "colab": {
          "base_uri": "https://localhost:8080/"
        },
        "id": "YSP7DAffbI8G",
        "outputId": "bcd409d1-4328-492a-b1a1-8e56fb23a0bb"
      },
      "outputs": [
        {
          "data": {
            "text/plain": [
              "Index(['ProductID', 'Weight', 'FatContent', 'ProductVisibility', 'ProductType',\n",
              "       'MRP', 'OutletID', 'EstablishmentYear', 'OutletSize', 'LocationType',\n",
              "       'OutletType'],\n",
              "      dtype='object')"
            ]
          },
          "execution_count": 51,
          "metadata": {},
          "output_type": "execute_result"
        }
      ],
      "source": [
        "X.columns"
      ]
    },
    {
      "cell_type": "code",
      "execution_count": 52,
      "metadata": {
        "colab": {
          "base_uri": "https://localhost:8080/",
          "height": 449
        },
        "id": "lsAMGX1ZwNem",
        "outputId": "8b76ccd9-f52a-42d9-ce9b-a84cd389ffc9"
      },
      "outputs": [
        {
          "data": {
            "image/png": "[encoded data removed]",
            "text/plain": [
              "<Figure size 640x480 with 2 Axes>"
            ]
          },
          "metadata": {},
          "output_type": "display_data"
        }
      ],
      "source": [
        "# Drop non-numeric columns from features\n",
        "from sklearn.decomposition import PCA\n",
        "import matplotlib.pyplot as plt\n",
        "\n",
        "numeric_cols = ['Weight', 'ProductVisibility', 'MRP', 'EstablishmentYear']\n",
        "X1 = X[numeric_cols]\n",
        "\n",
        "# Fit PCA to the features\n",
        "pca = PCA(n_components=2)\n",
        "X_pca = pca.fit_transform(X1)\n",
        "\n",
        "# Plot PCA results\n",
        "plt.scatter(X_pca[:, 0], X_pca[:, 1], c=train['OutletSales'])\n",
        "plt.xlabel('PC1')\n",
        "plt.ylabel('PC2')\n",
        "plt.colorbar()\n",
        "plt.show()"
      ]
    },
    {
      "cell_type": "code",
      "execution_count": 53,
      "metadata": {
        "id": "ht5aaJ5NwVUr"
      },
      "outputs": [],
      "source": [
        "# Apply one hot encoding to ProductID column\n",
        "product_id_encoding = pd.get_dummies(train['ProductID'], prefix='ProductID')\n",
        "train_1 = pd.concat([train, product_id_encoding], axis=1)\n",
        "\n",
        "# Drop original ProductID column\n",
        "train_1 = train.drop(['ProductID'], axis=1)"
      ]
    },
    {
      "cell_type": "code",
      "execution_count": 54,
      "metadata": {
        "colab": {
          "base_uri": "https://localhost:8080/"
        },
        "id": "bQfVjFkIwfdz",
        "outputId": "2326c51f-a74b-4a13-9bd2-48c920b3190c"
      },
      "outputs": [
        {
          "data": {
            "text/plain": [
              "Index(['Weight', 'FatContent', 'ProductVisibility', 'MRP', 'EstablishmentYear',\n",
              "       'OutletSales', 'ProductType_0', 'ProductType_1', 'ProductType_2',\n",
              "       'ProductType_3', 'ProductType_4', 'ProductType_5', 'ProductType_6',\n",
              "       'ProductType_7', 'ProductType_8', 'ProductType_9', 'ProductType_10',\n",
              "       'ProductType_11', 'ProductType_12', 'ProductType_13', 'ProductType_14',\n",
              "       'ProductType_15', 'OutletID_OUT010', 'OutletID_OUT013',\n",
              "       'OutletID_OUT017', 'OutletID_OUT018', 'OutletID_OUT019',\n",
              "       'OutletID_OUT027', 'OutletID_OUT035', 'OutletID_OUT045',\n",
              "       'OutletID_OUT046', 'OutletID_OUT049', 'OutletSize_0', 'OutletSize_1',\n",
              "       'OutletSize_2', 'LocationType_0', 'LocationType_1', 'LocationType_2',\n",
              "       'OutletType_0', 'OutletType_1', 'OutletType_2', 'OutletType_3'],\n",
              "      dtype='object')"
            ]
          },
          "execution_count": 54,
          "metadata": {},
          "output_type": "execute_result"
        }
      ],
      "source": [
        "import pandas as pd\n",
        "\n",
        "# Convert categorical features into numerical format using one-hot encoding\n",
        "df_encoded = pd.get_dummies(train_1, columns=[\"ProductType\", \"OutletID\", \"OutletSize\", \"LocationType\", \"OutletType\"])\n",
        "df_encoded.columns"
      ]
    },
    {
      "cell_type": "code",
      "execution_count": 55,
      "metadata": {
        "colab": {
          "base_uri": "https://localhost:8080/",
          "height": 601
        },
        "id": "qWdRgfKsezuS",
        "outputId": "0accb750-ce38-4f23-8638-f293ad67ab51"
      },
      "outputs": [
        {
          "data": {
            "text/plain": [
              "Text(0.5, 1.0, '1st PC')"
            ]
          },
          "execution_count": 55,
          "metadata": {},
          "output_type": "execute_result"
        },
        {
          "data": {
            "image/png": "[encoded data removed]",
            "text/plain": [
              "<Figure size 640x480 with 1 Axes>"
            ]
          },
          "metadata": {},
          "output_type": "display_data"
        }
      ],
      "source": [
        "from numpy import linalg\n",
        "fig,axes = plt.subplots(1,1,sharex=True)\n",
        "\n",
        "X1 = df_encoded.drop(['OutletSales'], axis=1)\n",
        "cov = X1.cov().to_numpy()\n",
        "A = X1.to_numpy()\n",
        "[eigvals, pcs] = linalg.eig(cov)\n",
        "\n",
        "attrib = list(X1.columns)         # get attribute names\n",
        "pcdata  = pd.Series(pcs[:,0], index=attrib)\n",
        "pcdata.plot(kind='barh',ax=axes,color='k',alpha=0.5)\n",
        "axes.set_title(r'1st PC', size = 'x-large')"
      ]
    },
    {
      "cell_type": "code",
      "execution_count": 56,
      "metadata": {
        "colab": {
          "base_uri": "https://localhost:8080/",
          "height": 564
        },
        "id": "PABxEvoShfzO",
        "outputId": "668e90e6-a81d-4efe-b4b0-263c0e10724c"
      },
      "outputs": [
        {
          "data": {
            "text/plain": [
              "Text(0.5, 1.0, '1st PC')"
            ]
          },
          "execution_count": 56,
          "metadata": {},
          "output_type": "execute_result"
        },
        {
          "data": {
            "image/png": "[encoded data removed]",
            "text/plain": [
              "<Figure size 640x480 with 1 Axes>"
            ]
          },
          "metadata": {},
          "output_type": "display_data"
        }
      ],
      "source": [
        "from numpy import linalg\n",
        "fig,axes = plt.subplots(1,1,sharex=True)\n",
        "\n",
        "X1 = df_encoded.drop(['OutletSales'], axis=1)\n",
        "cov = X1.cov().to_numpy()\n",
        "A = X1.to_numpy()\n",
        "[eigvals, pcs] = linalg.eig(cov)\n",
        "\n",
        "attrib = list(X1.columns)         # get attribute names\n",
        "pcdata  = pd.Series(pcs[:,0], index=attrib)\n",
        "pcdata_sorted = pcdata.abs().sort_values(ascending=False)[:10] # get top 5 attributes\n",
        "pcdata_sorted.plot(kind='barh',ax=axes,color='k',alpha=0.5)\n",
        "axes.set_title(r'1st PC', size = 'x-large')\n"
      ]
    },
    {
      "cell_type": "code",
      "execution_count": 57,
      "metadata": {
        "colab": {
          "base_uri": "https://localhost:8080/"
        },
        "id": "6VBLaDvTxDIy",
        "outputId": "f3bd4e96-cb92-44eb-9398-f7ec5097e254"
      },
      "outputs": [
        {
          "name": "stdout",
          "output_type": "stream",
          "text": [
            "[9.75982401e-01 1.77184354e-02 5.42497084e-03 2.06871711e-04\n",
            " 1.05915656e-04 8.97766770e-05 6.99460751e-05 6.26502624e-05\n",
            " 3.58212574e-05 3.47671634e-05 3.07328668e-05 2.88896748e-05\n",
            " 2.74384808e-05 2.45644966e-05 2.39198366e-05 2.26366761e-05\n",
            " 1.95713929e-05 1.90880027e-05 1.53196224e-05 1.38713482e-05\n",
            " 1.21587408e-05 8.06635313e-06 6.49763243e-06 5.24910992e-06\n",
            " 4.48566304e-06 3.36313907e-06 1.98316153e-06 6.07605277e-07\n",
            " 9.68610180e-33 9.68610180e-33 9.68610180e-33 9.68610180e-33\n",
            " 9.68610180e-33 9.68610180e-33 9.68610180e-33 9.68610180e-33\n",
            " 9.68610180e-33 9.68610180e-33 9.68610180e-33 9.68610180e-33\n",
            " 9.68610180e-33]\n"
          ]
        }
      ],
      "source": [
        "import pandas as pd\n",
        "from sklearn.decomposition import PCA\n",
        "import matplotlib.pyplot as plt\n",
        "\n",
        "# Separate target variable from predictor variables\n",
        "X = df_encoded.drop(\"OutletSales\", axis=1)\n",
        "y = df_encoded[\"OutletSales\"]\n",
        "\n",
        "# Initialize and fit PCA model\n",
        "pca = PCA()\n",
        "pca.fit(X)\n",
        "\n",
        "# Get explained variance ratios for each principal component\n",
        "explained_variances = pca.explained_variance_ratio_\n",
        "print(explained_variances)"
      ]
    },
    {
      "cell_type": "code",
      "execution_count": 58,
      "metadata": {
        "colab": {
          "base_uri": "https://localhost:8080/"
        },
        "id": "uQ72jjTdcU7f",
        "outputId": "a15b2b49-b7c7-4ec1-cbe2-31ab10d93cae"
      },
      "outputs": [
        {
          "data": {
            "text/plain": [
              "41"
            ]
          },
          "execution_count": 58,
          "metadata": {},
          "output_type": "execute_result"
        }
      ],
      "source": [
        "len(X.columns)"
      ]
    },
    {
      "cell_type": "code",
      "execution_count": 59,
      "metadata": {
        "colab": {
          "base_uri": "https://localhost:8080/"
        },
        "id": "d8u1ml60cTU3",
        "outputId": "dcbec74e-c9a7-47a6-fccb-ef27b3caf493"
      },
      "outputs": [
        {
          "name": "stdout",
          "output_type": "stream",
          "text": [
            "[0.9759824  0.99370084 0.99912581 0.99933268 0.99943859 0.99952837\n",
            " 0.99959832 0.99966097 0.99969679 0.99973156 0.99976229 0.99979118\n",
            " 0.99981862 0.99984318 0.9998671  0.99988974 0.99990931 0.9999284\n",
            " 0.99994372 0.99995759 0.99996975 0.99997781 0.99998431 0.99998956\n",
            " 0.99999405 0.99999741 0.99999939 1.         1.         1.\n",
            " 1.         1.         1.         1.         1.         1.\n",
            " 1.         1.         1.         1.         1.        ] [ 1  2  3  4  5  6  7  8  9 10 11 12 13 14 15 16 17 18 19 20 21 22 23 24\n",
            " 25 26 27 28 29 30 31 32 33 34 35 36 37 38 39 40 41]\n"
          ]
        }
      ],
      "source": [
        "xi = np.arange(1, 42, step=1)\n",
        "yi = np.cumsum(pca.explained_variance_ratio_)\n",
        "print(yi,xi)"
      ]
    },
    {
      "cell_type": "code",
      "execution_count": 61,
      "metadata": {
        "colab": {
          "base_uri": "https://localhost:8080/",
          "height": 564
        },
        "id": "O9zBEcYtikKV",
        "outputId": "30e53480-0e99-4d45-ed9a-fa40ad7a81a3"
      },
      "outputs": [
        {
          "data": {
            "image/png": "[encoded data removed]",
            "text/plain": [
              "<Figure size 1200x600 with 1 Axes>"
            ]
          },
          "metadata": {},
          "output_type": "display_data"
        }
      ],
      "source": [
        "plt.rcParams[\"figure.figsize\"] = (12,6)\n",
        "plt.ylim(0.95,1.01)\n",
        "plt.plot(xi, yi, marker='o', linestyle='--', color='b')\n",
        "\n",
        "plt.xlabel('Number of Components')\n",
        "plt.xticks(np.arange(1, 42, step=1)) #change from 0-based array index to 1-based human-readable label\n",
        "plt.ylabel('Cumulative variance (%)')\n",
        "plt.title('The number of components needed to explain variance')\n",
        "\n",
        "plt.axhline(y=0.999, color='b', linestyle='-')\n",
        "plt.text(0.8, 0.995, '99% cut-off threshold', color = 'red', fontsize=16)\n",
        "# ax.grid(axis='x')\n",
        "plt.show()"
      ]
    },
    {
      "cell_type": "code",
      "execution_count": 62,
      "metadata": {
        "colab": {
          "base_uri": "https://localhost:8080/",
          "height": 472
        },
        "id": "79tSN8TxxOSi",
        "outputId": "076da9a3-ecd2-4433-9ff6-0ec6b0b61331"
      },
      "outputs": [
        {
          "data": {
            "image/png": "[encoded data removed]",
            "text/plain": [
              "<Figure size 1200x600 with 1 Axes>"
            ]
          },
          "metadata": {},
          "output_type": "display_data"
        }
      ],
      "source": [
        "import pandas as pd\n",
        "from sklearn.decomposition import PCA\n",
        "import seaborn as sns\n",
        "\n",
        "# Separate target variable from predictor variables\n",
        "X = df_encoded.drop(\"OutletSales\", axis=1)\n",
        "y = df_encoded[\"OutletSales\"]\n",
        "\n",
        "# Initialize and fit PCA model\n",
        "pca = PCA()\n",
        "pca.fit(X)\n",
        "\n",
        "# Standardize the data\n",
        "scaler = StandardScaler()\n",
        "X_std = scaler.fit_transform(X)\n",
        "\n",
        "# Perform PCA\n",
        "pca = PCA(n_components=2)\n",
        "principal_components = pca.fit_transform(X_std)\n",
        "\n",
        "# Create a new dataframe for the principal components and target variable\n",
        "pca_df = pd.DataFrame(data = principal_components, columns = ['PC1', 'PC2'])\n",
        "pca_df['Target'] = y.values\n",
        "\n",
        "# Plot the scatter plot with different colors for each target variable\n",
        "sns.scatterplot(data=pca_df, x='PC1', y='PC2', hue='Target')\n",
        "plt.title('Scatter Plot after PCA')\n",
        "plt.xlabel('PC1')\n",
        "plt.ylabel('PC2')\n",
        "plt.show()"
      ]
    },
    {
      "cell_type": "markdown",
      "metadata": {
        "id": "JT5KceQdxojS"
      },
      "source": [
        "When the data points in a scatter plot form cluster groups, it means that there are patterns or similarities in the data that can be visually identified. In the context of PCA, the cluster groups may indicate that there are underlying structures or relationships between the predictor variables that are contributing to the variance in the data. By reducing the dimensionality of the data with PCA, we can more easily visualize these patterns and relationships, which can help us to better understand the data and potentially make more accurate predictions or insights. It is important to note, however, that the interpretation of the cluster groups will depend on the specific context and domain of the data, and should be further investigated and validated through additional analysis."
      ]
    },
    {
      "cell_type": "code",
      "execution_count": null,
      "metadata": {
        "colab": {
          "base_uri": "https://localhost:8080/",
          "height": 540
        },
        "id": "cZTBeT9MlWhW",
        "outputId": "6144fff6-cd27-4f7a-ff2f-3dab8fe2b47f"
      },
      "outputs": [],
      "source": []
    },
    {
      "cell_type": "code",
      "execution_count": 63,
      "metadata": {
        "colab": {
          "base_uri": "https://localhost:8080/"
        },
        "id": "sKVmkz7XxrHK",
        "outputId": "c465ba23-4089-42cd-d189-e6e58d1b0d6b"
      },
      "outputs": [
        {
          "data": {
            "text/plain": [
              "Index(['ProductID', 'Weight', 'FatContent', 'ProductVisibility', 'ProductType',\n",
              "       'MRP', 'OutletID', 'EstablishmentYear', 'OutletSize', 'LocationType',\n",
              "       'OutletType', 'OutletSales'],\n",
              "      dtype='object')"
            ]
          },
          "execution_count": 63,
          "metadata": {},
          "output_type": "execute_result"
        }
      ],
      "source": [
        "train.columns"
      ]
    },
    {
      "cell_type": "code",
      "execution_count": 64,
      "metadata": {
        "colab": {
          "base_uri": "https://localhost:8080/",
          "height": 1000
        },
        "id": "HhsKf9jR1ARh",
        "outputId": "0cbf6d6b-cc99-4fe5-e0ad-c3c4e5908b20"
      },
      "outputs": [
        {
          "data": {
            "image/png": "[encoded data removed]",
            "text/plain": [
              "<Figure size 1200x600 with 1 Axes>"
            ]
          },
          "metadata": {},
          "output_type": "display_data"
        },
        {
          "data": {
            "image/png": "[encoded data removed]",
            "text/plain": [
              "<Figure size 1200x600 with 4 Axes>"
            ]
          },
          "metadata": {},
          "output_type": "display_data"
        },
        {
          "data": {
            "image/png": "[encoded data removed]",
            "text/plain": [
              "<Figure size 1200x600 with 1 Axes>"
            ]
          },
          "metadata": {},
          "output_type": "display_data"
        }
      ],
      "source": [
        "import pandas as pd\n",
        "import matplotlib.pyplot as plt\n",
        "from statsmodels.tsa.seasonal import seasonal_decompose\n",
        "\n",
        "# Load the data\n",
        "df = pd.read_csv('Train-Set.csv')\n",
        "\n",
        "# Convert EstablishmentYear to datetime format and set as index\n",
        "df['EstablishmentYear'] = pd.to_datetime(df['EstablishmentYear'], format='%Y')\n",
        "df.set_index('EstablishmentYear', inplace=True)\n",
        "\n",
        "# Resample the data to yearly frequency\n",
        "df_yearly = df.resample('Y').sum()\n",
        "\n",
        "# Plot the sales data\n",
        "plt.plot(df_yearly['OutletSales'])\n",
        "plt.title('Yearly Sales Trend')\n",
        "plt.xlabel('Year')\n",
        "plt.ylabel('Sales')\n",
        "plt.show()\n",
        "\n",
        "# Perform time-series decomposition\n",
        "decomposition = seasonal_decompose(df_yearly['OutletSales'], period=1)\n",
        "trend = decomposition.trend\n",
        "seasonal = decomposition.seasonal\n",
        "residual = decomposition.resid\n",
        "\n",
        "# Plot the decomposition components\n",
        "plt.subplot(411)\n",
        "plt.plot(df_yearly['OutletSales'], label='Original')\n",
        "plt.legend(loc='best')\n",
        "plt.subplot(412)\n",
        "plt.plot(trend, label='Trend')\n",
        "plt.legend(loc='best')\n",
        "plt.subplot(413)\n",
        "plt.plot(seasonal,label='Seasonality')\n",
        "plt.legend(loc='best')\n",
        "plt.subplot(414)\n",
        "plt.plot(residual, label='Residuals')\n",
        "plt.legend(loc='best')\n",
        "plt.tight_layout()\n",
        "\n",
        "# Autocorrelation analysis\n",
        "from statsmodels.graphics.tsaplots import plot_acf\n",
        "\n",
        "plot_acf(df_yearly['OutletSales'], lags=10)\n",
        "plt.show()\n",
        "\n"
      ]
    },
    {
      "cell_type": "code",
      "execution_count": 65,
      "metadata": {
        "colab": {
          "base_uri": "https://localhost:8080/"
        },
        "id": "B-Nx0_oNKGfo",
        "outputId": "eb331466-61c6-4596-bb5d-871d7f4baa96"
      },
      "outputs": [
        {
          "name": "stdout",
          "output_type": "stream",
          "text": [
            "Mean Squared Error: 1067397.5223322932\n"
          ]
        }
      ],
      "source": [
        "from sklearn.ensemble import GradientBoostingRegressor\n",
        "from sklearn.model_selection import train_test_split\n",
        "from sklearn.metrics import mean_squared_error\n",
        "\n",
        "# load the data\n",
        "X = df_encoded.drop(\"OutletSales\", axis=1)\n",
        "y = df_encoded[\"OutletSales\"]\n",
        "\n",
        "# split the data into training and testing sets\n",
        "X_train, X_test, y_train, y_test = train_test_split(X, y, test_size=0.2, random_state=42)\n",
        "\n",
        "# create the GBM model\n",
        "gbm = GradientBoostingRegressor(n_estimators=100, learning_rate=0.1, max_depth=3, random_state=42)\n",
        "\n",
        "# train the model on the training data\n",
        "gbm.fit(X_train, y_train)\n",
        "\n",
        "# make predictions on the test data\n",
        "y_pred = gbm.predict(X_test)\n",
        "\n",
        "# evaluate the model performance\n",
        "mse = mean_squared_error(y_test, y_pred)\n",
        "print(\"Mean Squared Error:\", mse)\n"
      ]
    },
    {
      "cell_type": "code",
      "execution_count": 66,
      "metadata": {
        "colab": {
          "base_uri": "https://localhost:8080/",
          "height": 540
        },
        "id": "osBBSNI-KG4L",
        "outputId": "8c58c0e5-1bb5-4702-ceca-8377be25d90e"
      },
      "outputs": [
        {
          "data": {
            "text/plain": [
              "<AxesSubplot:>"
            ]
          },
          "execution_count": 66,
          "metadata": {},
          "output_type": "execute_result"
        },
        {
          "data": {
            "image/png": "[encoded data removed]",
            "text/plain": [
              "<Figure size 1200x600 with 1 Axes>"
            ]
          },
          "metadata": {},
          "output_type": "display_data"
        }
      ],
      "source": [
        "from sklearn.ensemble import RandomForestRegressor\n",
        "# Separate target variable from predictor variables\n",
        "X = df_encoded.drop(\"OutletSales\", axis=1)\n",
        "y = df_encoded[\"OutletSales\"]\n",
        "\n",
        "# split the data into training and testing sets\n",
        "X_train, X_test, y_train, y_test = train_test_split(X, y, test_size=0.2, random_state=42)\n",
        "\n",
        "# Fit a random forest model to calculate feature importances\n",
        "rf = RandomForestRegressor()\n",
        "rf.fit(X_train, y_train)\n",
        "\n",
        "# make predictions on the test data\n",
        "y_pred = rf.predict(X_test)\n",
        "\n",
        "# Plot feature importances\n",
        "feature_importances = pd.Series(rf.feature_importances_, index=X.columns)\n",
        "feature_importances.nlargest(10).plot(kind='barh')"
      ]
    },
    {
      "cell_type": "code",
      "execution_count": 67,
      "metadata": {
        "colab": {
          "base_uri": "https://localhost:8080/"
        },
        "id": "LcPr3zAGs0kP",
        "outputId": "3f1d1f20-f30f-4d8d-b0ce-221fa471e23e"
      },
      "outputs": [
        {
          "name": "stdout",
          "output_type": "stream",
          "text": [
            "Mean Squared Error: 1167258.7784621501\n"
          ]
        },
        {
          "data": {
            "text/plain": [
              "756.4424220234604"
            ]
          },
          "execution_count": 67,
          "metadata": {},
          "output_type": "execute_result"
        }
      ],
      "source": [
        "from sklearn.metrics import mean_absolute_error, mean_squared_error, r2_score\n",
        "# evaluate the model performance\n",
        "mse = mean_squared_error(y_test, y_pred)\n",
        "print(\"Mean Squared Error:\", mse)\n",
        "mean_absolute_error(y_test, y_pred)"
      ]
    },
    {
      "cell_type": "code",
      "execution_count": 68,
      "metadata": {
        "colab": {
          "base_uri": "https://localhost:8080/"
        },
        "id": "yB0G7j2ZtVPw",
        "outputId": "8cc549de-4c67-4592-abcf-593edda1782b"
      },
      "outputs": [
        {
          "data": {
            "text/plain": [
              "1167258.7784621501"
            ]
          },
          "execution_count": 68,
          "metadata": {},
          "output_type": "execute_result"
        }
      ],
      "source": [
        "mean_squared_error(y_test, y_pred)\n"
      ]
    },
    {
      "cell_type": "code",
      "execution_count": 69,
      "metadata": {
        "colab": {
          "base_uri": "https://localhost:8080/"
        },
        "id": "_Lvuui8xtg5G",
        "outputId": "422a0781-de7c-45b4-821f-80f64245795e"
      },
      "outputs": [
        {
          "data": {
            "text/plain": [
              "1080.3975094668397"
            ]
          },
          "execution_count": 69,
          "metadata": {},
          "output_type": "execute_result"
        }
      ],
      "source": [
        "np.sqrt(mean_squared_error(y_test, y_pred))"
      ]
    },
    {
      "cell_type": "code",
      "execution_count": 70,
      "metadata": {
        "colab": {
          "base_uri": "https://localhost:8080/"
        },
        "id": "ifiISc2Ntonz",
        "outputId": "a7de5925-2080-4fe4-a26f-67d8ad26ed34"
      },
      "outputs": [
        {
          "data": {
            "text/plain": [
              "0.570540237805072"
            ]
          },
          "execution_count": 70,
          "metadata": {},
          "output_type": "execute_result"
        }
      ],
      "source": [
        "r2_score(y_test, y_pred)"
      ]
    },
    {
      "cell_type": "code",
      "execution_count": 71,
      "metadata": {
        "id": "G9nnK8FiupZh"
      },
      "outputs": [],
      "source": [
        "from sklearn.linear_model import LogisticRegression\n",
        "from sklearn.ensemble import RandomForestClassifier\n",
        "from sklearn.model_selection import cross_val_score\n",
        "from sklearn.neighbors import KNeighborsClassifier\n",
        "from sklearn.metrics import accuracy_score, confusion_matrix, precision_recall_fscore_support, roc_curve, auc\n",
        "from sklearn.metrics import mean_squared_error, r2_score\n",
        "from sklearn.model_selection import GridSearchCV, train_test_split, learning_curve\n",
        "from sklearn import tree\n",
        "from sklearn.svm import SVR\n",
        "from sklearn.metrics import mean_squared_error, r2_score"
      ]
    },
    {
      "cell_type": "code",
      "execution_count": 73,
      "metadata": {},
      "outputs": [
        {
          "name": "stdout",
          "output_type": "stream",
          "text": [
            "Collecting xgboost\n",
            "  Downloading xgboost-1.7.5-py3-none-win_amd64.whl (70.9 MB)\n",
            "     --------------------------------------- 70.9/70.9 MB 16.4 MB/s eta 0:00:00\n",
            "Requirement already satisfied: scipy in c:\\users\\yagnashree velanki\\anaconda3\\lib\\site-packages (from xgboost) (1.9.1)\n",
            "Requirement already satisfied: numpy in c:\\users\\yagnashree velanki\\anaconda3\\lib\\site-packages (from xgboost) (1.21.5)\n",
            "Installing collected packages: xgboost\n",
            "Successfully installed xgboost-1.7.5\n",
            "Note: you may need to restart the kernel to use updated packages.\n"
          ]
        }
      ],
      "source": [
        "pip install xgboost\n"
      ]
    },
    {
      "cell_type": "code",
      "execution_count": 74,
      "metadata": {},
      "outputs": [],
      "source": [
        "from sklearn.model_selection import GridSearchCV\n",
        "from sklearn.svm import SVR\n",
        "from sklearn.linear_model import LinearRegression, Lasso, Ridge\n",
        "from sklearn.tree import DecisionTreeRegressor\n",
        "import xgboost as xgb\n",
        "\n",
        "def get_hyperparameters(method):\n",
        "    if method == \"SVR\":\n",
        "        # Hyperparameters for SVR\n",
        "        hyperparameters = {\n",
        "            \"kernel\": [\"linear\", \"poly\", \"rbf\", \"sigmoid\"],\n",
        "            \"C\": [0.1, 1, 10],\n",
        "            \"epsilon\": [0.01, 0.1, 1],\n",
        "            \"gamma\": [\"scale\", \"auto\"]\n",
        "        }\n",
        "        regressor = SVR()\n",
        "        \n",
        "    elif method == \"LR\":\n",
        "        # Hyperparameters for Linear Regression\n",
        "        hyperparameters = {\n",
        "            \"fit_intercept\": [True, False],\n",
        "            \"normalize\": [True, False]\n",
        "        }\n",
        "        regressor = LinearRegression()\n",
        "        \n",
        "    elif method == \"XGB\":\n",
        "        # Hyperparameters for XGBoost\n",
        "        hyperparameters = {\n",
        "            \"learning_rate\": [0.01, 0.1, 0.5],\n",
        "            \"max_depth\": [3, 5, 7],\n",
        "            \"min_child_weight\": [1, 3, 5],\n",
        "            \"gamma\": [0.1, 0.5, 1],\n",
        "            \"subsample\": [0.5, 0.8, 1.0],\n",
        "            \"colsample_bytree\": [0.5, 0.8, 1.0]\n",
        "        }\n",
        "        regressor = xgb.XGBRegressor(objective='reg:squarederror')\n",
        "        \n",
        "    elif method == \"DT\":\n",
        "        # Hyperparameters for Decision Tree\n",
        "        hyperparameters = {\n",
        "            \"criterion\": [\"mse\", \"friedman_mse\", \"mae\"],\n",
        "            \"max_depth\": [3, 5, 7, None],\n",
        "            \"min_samples_split\": [2, 5, 10],\n",
        "            \"min_samples_leaf\": [1, 2, 4]\n",
        "        }\n",
        "        regressor = DecisionTreeRegressor()\n",
        "        \n",
        "    elif method == \"Lasso\":\n",
        "        # Hyperparameters for Lasso Regression\n",
        "        hyperparameters = {\n",
        "            \"alpha\": [0.1, 1, 10],\n",
        "            \"fit_intercept\": [True, False],\n",
        "            \"normalize\": [True, False],\n",
        "            \"selection\": [\"cyclic\", \"random\"]\n",
        "        }\n",
        "        regressor = Lasso()\n",
        "        \n",
        "    elif method == \"Ridge\":\n",
        "        # Hyperparameters for Ridge Regression\n",
        "        hyperparameters = {\n",
        "            \"alpha\": [0.1, 1, 10],\n",
        "            \"fit_intercept\": [True, False],\n",
        "            \"normalize\": [True, False],\n",
        "            \"solver\": [\"auto\", \"svd\", \"cholesky\", \"lsqr\", \"sparse_cg\", \"sag\", \"saga\"]\n",
        "        }\n",
        "        regressor = Ridge()\n",
        "    \n",
        "    # Use GridSearchCV to perform hyperparameter tuning\n",
        "    grid_search = GridSearchCV(regressor, hyperparameters, cv=5, n_jobs=-1, scoring=\"neg_mean_squared_error\")\n",
        "    \n",
        "    return grid_search\n"
      ]
    },
    {
      "cell_type": "code",
      "execution_count": 75,
      "metadata": {
        "colab": {
          "base_uri": "https://localhost:8080/"
        },
        "id": "gH_DukrhwVJn",
        "outputId": "e9a7f4c9-51db-481f-f38c-c50b60969682"
      },
      "outputs": [],
      "source": [
        "# Split the dataset into train and test sets\n",
        "X = df_encoded.drop(['OutletSales'], axis=1)\n",
        "y = df_encoded['OutletSales']\n",
        "X_train, X_test, y_train, y_test = train_test_split(X, y, test_size=0.2, random_state=42)\n",
        "\n",
        "# Create the SVM model\n",
        "svm = get_hyperparameters(\"SVR\")\n",
        "\n",
        "# Fit the model on the training data\n",
        "svm.fit(X_train, y_train)\n",
        "\n",
        "# Make predictions on the test data\n",
        "y_pred = svm.predict(X_test)\n",
        "\n",
        "# Calculate the mean squared error and r-squared score\n",
        "mse = mean_squared_error(y_test, y_pred)\n",
        "r2 = r2_score(y_test, y_pred)\n",
        "print(\"Mean Squared Error: \", mse)\n",
        "print(\"R-squared score: \", r2)"
      ]
    },
    {
      "cell_type": "code",
      "execution_count": null,
      "metadata": {
        "colab": {
          "base_uri": "https://localhost:8080/"
        },
        "id": "trUlDNwrw237",
        "outputId": "fc793f8e-9865-4ad0-9b5b-b824fc8e1423"
      },
      "outputs": [],
      "source": [
        "# Import necessary libraries\n",
        "import pandas as pd\n",
        "import numpy as np\n",
        "from sklearn.linear_model import LinearRegression\n",
        "from sklearn.model_selection import train_test_split\n",
        "from sklearn.metrics import mean_squared_error, r2_score\n",
        "\n",
        "# Create the linear regression model\n",
        "lr = get_hyperparameters(\"LR\")\n",
        "\n",
        "# Fit the model on the training data\n",
        "lr.fit(X_train, y_train)\n",
        "\n",
        "# Make predictions on the test data\n",
        "y_pred = lr.predict(X_test)\n",
        "\n",
        "# Calculate the mean squared error and r-squared score\n",
        "mse = mean_squared_error(y_test, y_pred)\n",
        "r2 = r2_score(y_test, y_pred)\n",
        "print(\"Mean Squared Error: \", mse)\n",
        "print(\"R-squared score: \", r2)\n"
      ]
    },
    {
      "cell_type": "code",
      "execution_count": null,
      "metadata": {
        "colab": {
          "base_uri": "https://localhost:8080/"
        },
        "id": "wpuhrFUSyDOr",
        "outputId": "21f171ae-eccc-465e-d2b6-17410c57d193"
      },
      "outputs": [],
      "source": [
        "import xgboost as xgb\n",
        "\n",
        "# Create the XGBoost model\n",
        "xgb_model = get_hyperparameters(\"XGB\")\n",
        "\n",
        "# Fit the model on the training data\n",
        "xgb_model.fit(X_train, y_train)\n",
        "\n",
        "# Make predictions on the test data\n",
        "y_pred = xgb_model.predict(X_test)\n",
        "\n",
        "# Calculate the mean squared error and r-squared score\n",
        "mse = mean_squared_error(y_test, y_pred)\n",
        "r2 = r2_score(y_test, y_pred)\n",
        "print(\"Mean Squared Error: \", mse)\n",
        "print(\"R-squared score: \", r2)"
      ]
    },
    {
      "cell_type": "code",
      "execution_count": null,
      "metadata": {
        "colab": {
          "base_uri": "https://localhost:8080/"
        },
        "id": "EGi8tkLYyF5K",
        "outputId": "cd52a1d8-cdb3-44cb-f61a-1f7fba1775b9"
      },
      "outputs": [],
      "source": [
        "from sklearn.tree import DecisionTreeRegressor\n",
        "from sklearn.metrics import mean_squared_error, r2_score\n",
        "from sklearn.model_selection import train_test_split\n",
        "\n",
        "# Split the dataset into train and test sets\n",
        "X = df_encoded.drop(['OutletSales'], axis=1)\n",
        "y = df_encoded['OutletSales']\n",
        "X_train, X_test, y_train, y_test = train_test_split(X, y, test_size=0.2, random_state=42)\n",
        "\n",
        "# Create the Decision Tree model\n",
        "dt = get_hyperparameters(\"DT\")\n",
        "\n",
        "# Fit the model on the training data\n",
        "dt.fit(X_train, y_train)\n",
        "\n",
        "# Make predictions on the test data\n",
        "y_pred = dt.predict(X_test)\n",
        "\n",
        "# Calculate the mean squared error and r-squared score\n",
        "mse = mean_squared_error(y_test, y_pred)\n",
        "r2 = r2_score(y_test, y_pred)\n",
        "print(\"Mean Squared Error: \", mse)\n",
        "print(\"R-squared score: \", r2)\n"
      ]
    },
    {
      "cell_type": "code",
      "execution_count": null,
      "metadata": {
        "colab": {
          "base_uri": "https://localhost:8080/"
        },
        "id": "QT5pnBy8yQNz",
        "outputId": "4b7e85bc-4d34-4ff8-9745-db3d62360593"
      },
      "outputs": [],
      "source": [
        "from sklearn.linear_model import Lasso\n",
        "# Create the Lasso model\n",
        "lasso = get_hyperparameters(\"Lasso\")\n",
        "\n",
        "# Fit the model on the training data\n",
        "lasso.fit(X_train, y_train)\n",
        "\n",
        "# Make predictions on the test data\n",
        "y_pred = lasso.predict(X_test)\n",
        "\n",
        "# Calculate the mean squared error and r-squared score\n",
        "mse = mean_squared_error(y_test, y_pred)\n",
        "r2 = r2_score(y_test, y_pred)\n",
        "print(\"Mean Squared Error: \", mse)\n",
        "print(\"R-squared score: \", r2)"
      ]
    },
    {
      "cell_type": "code",
      "execution_count": null,
      "metadata": {
        "colab": {
          "base_uri": "https://localhost:8080/"
        },
        "id": "1DN9bg88y7ow",
        "outputId": "7a455fc7-014c-4ee0-a2dd-3cf992fe7a68"
      },
      "outputs": [],
      "source": [
        "# Import necessary libraries\n",
        "from sklearn.linear_model import Ridge\n",
        "\n",
        "# Create the Ridge model\n",
        "ridge = get_hyperparameters(\"Ridge\")\n",
        "\n",
        "# Fit the model on the training data\n",
        "ridge.fit(X_train, y_train)\n",
        "\n",
        "# Make predictions on the test data\n",
        "y_pred = ridge.predict(X_test)\n",
        "\n",
        "# Calculate the mean squared error and r-squared score\n",
        "mse = mean_squared_error(y_test, y_pred)\n",
        "r2 = r2_score(y_test, y_pred)\n",
        "print(\"Mean Squared Error: \", mse)\n",
        "print(\"R-squared score: \", r2)\n"
      ]
    },
    {
      "cell_type": "code",
      "execution_count": null,
      "metadata": {
        "id": "aD5plMk1zDOj"
      },
      "outputs": [],
      "source": [
        "from sklearn.feature_selection import SelectKBest, f_regression, RFE"
      ]
    },
    {
      "cell_type": "code",
      "execution_count": null,
      "metadata": {
        "colab": {
          "base_uri": "https://localhost:8080/"
        },
        "id": "lLI3B5Gs0UCB",
        "outputId": "84918aee-9e0d-490d-efc8-59187fd7b01b"
      },
      "outputs": [],
      "source": [
        "selector = SelectKBest(f_regression, k=8)\n",
        "X_train_selected = selector.fit_transform(X_train, y_train)\n",
        "X_test_selected = selector.transform(X_test)\n",
        "\n",
        "selected_features = X_train.columns[selector.get_support()]\n",
        "\n",
        "print(\"Selected features:\", selected_features)"
      ]
    },
    {
      "cell_type": "code",
      "execution_count": null,
      "metadata": {
        "colab": {
          "base_uri": "https://localhost:8080/"
        },
        "id": "wMXdBI9Z0Y5f",
        "outputId": "8a6ce4d4-0292-42e6-b1d8-0b5df9fe1e99"
      },
      "outputs": [],
      "source": [
        "estimator = [lr,xgb_model,lasso,ridge,dt]\n",
        "\n",
        "for i in estimator:\n",
        "  selector = RFE(i, n_features_to_select=8, step=1)\n",
        "  X_train_selected = selector.fit_transform(X_train, y_train)\n",
        "  X_test_selected = selector.transform(X_test)\n",
        "  selected_features = X_train.columns[selector.get_support()]\n",
        "  print(\"Selected features for the\",i,'are',selected_features)\n",
        "     "
      ]
    },
    {
      "cell_type": "code",
      "execution_count": null,
      "metadata": {
        "id": "gyfAcH_50_vm"
      },
      "outputs": [],
      "source": []
    }
  ],
  "metadata": {
    "colab": {
      "provenance": []
    },
    "kernelspec": {
      "display_name": "Python 3",
      "name": "python3"
    },
    "language_info": {
      "codemirror_mode": {
        "name": "ipython",
        "version": 3
      },
      "file_extension": ".py",
      "mimetype": "text/x-python",
      "name": "python",
      "nbconvert_exporter": "python",
      "pygments_lexer": "ipython3",
      "version": "3.9.13"
    }
  },
  "nbformat": 4,
  "nbformat_minor": 0
}
